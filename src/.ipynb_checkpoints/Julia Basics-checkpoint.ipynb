{
 "cells": [
  {
   "cell_type": "markdown",
   "metadata": {},
   "source": [
    "# Julia Basics"
   ]
  },
  {
   "cell_type": "markdown",
   "metadata": {
    "toc": true
   },
   "source": [
    "<h1>Table of Contents<span class=\"tocSkip\"></span></h1>\n",
    "<div class=\"toc\"><ul class=\"toc-item\"><li><span><a href=\"#Functions\" data-toc-modified-id=\"Functions-1\"><span class=\"toc-item-num\">1&nbsp;&nbsp;</span>Functions</a></span></li><li><span><a href=\"#Strings\" data-toc-modified-id=\"Strings-2\"><span class=\"toc-item-num\">2&nbsp;&nbsp;</span>Strings</a></span></li><li><span><a href=\"#Arrays\" data-toc-modified-id=\"Arrays-3\"><span class=\"toc-item-num\">3&nbsp;&nbsp;</span>Arrays</a></span><ul class=\"toc-item\"><li><span><a href=\"#Multidimensional-Arrays\" data-toc-modified-id=\"Multidimensional-Arrays-3.1\"><span class=\"toc-item-num\">3.1&nbsp;&nbsp;</span>Multidimensional Arrays</a></span></li></ul></li><li><span><a href=\"#Dictionaries\" data-toc-modified-id=\"Dictionaries-4\"><span class=\"toc-item-num\">4&nbsp;&nbsp;</span>Dictionaries</a></span></li><li><span><a href=\"#Loops-and-Maps\" data-toc-modified-id=\"Loops-and-Maps-5\"><span class=\"toc-item-num\">5&nbsp;&nbsp;</span>Loops and Maps</a></span></li><li><span><a href=\"#Types\" data-toc-modified-id=\"Types-6\"><span class=\"toc-item-num\">6&nbsp;&nbsp;</span>Types</a></span></li><li><span><a href=\"#I/O\" data-toc-modified-id=\"I/O-7\"><span class=\"toc-item-num\">7&nbsp;&nbsp;</span>I/O</a></span></li><li><span><a href=\"#DataFrames\" data-toc-modified-id=\"DataFrames-8\"><span class=\"toc-item-num\">8&nbsp;&nbsp;</span>DataFrames</a></span></li></ul></div>"
   ]
  },
  {
   "cell_type": "code",
   "execution_count": 1,
   "metadata": {
    "ExecuteTime": {
     "end_time": "2019-02-06T02:53:07.102000+05:30",
     "start_time": "2019-02-05T21:23:05.363Z"
    }
   },
   "outputs": [
    {
     "name": "stdout",
     "output_type": "stream",
     "text": [
      "Hello World"
     ]
    }
   ],
   "source": [
    "print(\"Hello World\")"
   ]
  },
  {
   "cell_type": "markdown",
   "metadata": {
    "ExecuteTime": {
     "end_time": "2019-02-05T23:39:23.433000+05:30",
     "start_time": "2019-02-05T18:09:23.421Z"
    }
   },
   "source": [
    "## Functions"
   ]
  },
  {
   "cell_type": "code",
   "execution_count": 2,
   "metadata": {
    "ExecuteTime": {
     "end_time": "2019-02-06T02:53:07.290000+05:30",
     "start_time": "2019-02-05T21:23:05.466Z"
    }
   },
   "outputs": [
    {
     "name": "stdout",
     "output_type": "stream",
     "text": [
      "113.09733552923254"
     ]
    }
   ],
   "source": [
    "function sphere_vol(r::Number)\n",
    "    return 4/3*pi*r^3\n",
    "end\n",
    "\n",
    "print(sphere_vol(3))"
   ]
  },
  {
   "cell_type": "code",
   "execution_count": 3,
   "metadata": {
    "ExecuteTime": {
     "end_time": "2019-02-06T02:53:07.310000+05:30",
     "start_time": "2019-02-05T21:23:05.497Z"
    }
   },
   "outputs": [
    {
     "name": "stdout",
     "output_type": "stream",
     "text": [
      "113.09733552923254"
     ]
    }
   ],
   "source": [
    "sphere_vol_short(r) = (4/3*pi*r^3)\n",
    "print(sphere_vol_short(3))"
   ]
  },
  {
   "cell_type": "code",
   "execution_count": 4,
   "metadata": {
    "ExecuteTime": {
     "end_time": "2019-02-06T02:53:07.498000+05:30",
     "start_time": "2019-02-05T21:23:05.529Z"
    }
   },
   "outputs": [
    {
     "name": "stdout",
     "output_type": "stream",
     "text": [
      "(3.0 + 0.0im, -2.0 - 0.0im)"
     ]
    }
   ],
   "source": [
    "quadratic(a, sqr_term, b) = (-b + sqr_term)/2a\n",
    "\n",
    "function quadratic2(a::Float64, b::Float64, c::Float64)\n",
    "    \n",
    "    sqr_term = sqrt(ComplexF64(b^2-4a*c))\n",
    "    r1 = quadratic(a, sqr_term, b)\n",
    "    r2 = quadratic(a, - sqr_term, b)\n",
    "    # if return keyword is omitted the last term is returned\n",
    "    r1, r2\n",
    "end\n",
    "\n",
    "print(quadratic2(2.0, -2.0, -12.0))"
   ]
  },
  {
   "cell_type": "markdown",
   "metadata": {},
   "source": [
    "## Strings"
   ]
  },
  {
   "cell_type": "code",
   "execution_count": 5,
   "metadata": {
    "ExecuteTime": {
     "end_time": "2019-02-06T02:53:07.880000+05:30",
     "start_time": "2019-02-05T21:23:05.633Z"
    }
   },
   "outputs": [
    {
     "name": "stdout",
     "output_type": "stream",
     "text": [
      "Char\tTO_ASCII ->\t97\n",
      "String\ttoUPPER ->\tA\n",
      "String\ttoLOWER ->\tqqs65aaf\n",
      "\"aF\"\n",
      "Qqs65aAF to Qqs65aAF\n",
      "Qqs65aAFQqs65aAF\n",
      "1+2 = 3\n",
      "this and that\n"
     ]
    }
   ],
   "source": [
    "#char\n",
    "c = 'a'\n",
    "println(typeof(c),\"\\tTO_ASCII ->\\t\",Int(c))\n",
    "\n",
    "c = \"a\"\n",
    "println(typeof(c), \"\\ttoUPPER ->\\t\", uppercase(c))\n",
    "c = \"Qqs65aAF\"\n",
    "println(typeof(c), \"\\ttoLOWER ->\\t\", lowercase(c))\n",
    "\n",
    "# show raw values \n",
    "show(lowercasefirst(c[end-1:end]));println()\n",
    "\n",
    "#merge strings\n",
    "println(\"$c to $c\")\n",
    "# use *  instead of +\n",
    "println(\"$c\"*\"$c\")\n",
    "\n",
    "#evaluate\n",
    "println(\"1+2 = $(1+2)\")\n",
    "\n",
    "s3 = string(\"this\", \" and\", \" that\")\n",
    "println(s3)"
   ]
  },
  {
   "cell_type": "code",
   "execution_count": 6,
   "metadata": {
    "ExecuteTime": {
     "end_time": "2019-02-06T02:53:08.326000+05:30",
     "start_time": "2019-02-05T21:23:05.674Z"
    }
   },
   "outputs": [
    {
     "name": "stdout",
     "output_type": "stream",
     "text": [
      "13.55000004\n",
      "e_flt = 2.7\n",
      "e_str1 == e_str2: false\n",
      "fix trailing precision: 3.142\n",
      "scientific form: 3.141593e+03\n",
      "a character: α\n",
      "a string: look I'm a string!\n",
      "right justify a string:                    width 50, text right justified!\n",
      "a pointer: 0x0000000005f5e100\n",
      "print a integer: 10000000000\n"
     ]
    }
   ],
   "source": [
    "e_str1 = \"2.710000008\"\n",
    "e_flt = parse(Float64, e_str1)\n",
    "println(5*e_flt)\n",
    "\n",
    "using Printf\n",
    "# convert and format number to string\n",
    "@printf \"e_flt = %0.1f\\n\" e_flt\n",
    "# or create a string\n",
    "e_str2 = @sprintf(\"%0.3f\", e_flt)\n",
    "\n",
    "println(\"e_str1 == e_str2: $(e_str1 == e_str2)\")\n",
    "\n",
    "# available number format characters are f, e, g, c, s, p, d:\n",
    "@printf \"fix trailing precision: %0.3f\\n\" float(pi)\n",
    "#> fix trailing precision: 3.142\n",
    "@printf \"scientific form: %0.6e\\n\" 1000pi\n",
    "#> scientific form: 3.141593e+03\n",
    "# g is not implemented yet\n",
    "@printf \"a character: %c\\n\" 'α'\n",
    "#> a character: α\n",
    "@printf \"a string: %s\\n\" \"look I'm a string!\"\n",
    "#> a string: look I'm a string!\n",
    "@printf \"right justify a string: %50s\\n\" \"width 50, text right justified!\"\n",
    "#> right justify a string:                    width 50, text right justified!\n",
    "@printf \"a pointer: %p\\n\" 100000000\n",
    "#> a pointer: 0x0000000005f5e100\n",
    "@printf \"print a integer: %d\\n\" 1e10\n",
    "#> print an integer: 10000000000"
   ]
  },
  {
   "cell_type": "code",
   "execution_count": 7,
   "metadata": {
    "ExecuteTime": {
     "end_time": "2019-02-06T02:53:08.402000+05:30",
     "start_time": "2019-02-05T21:23:05.712Z"
    }
   },
   "outputs": [
    {
     "name": "stdout",
     "output_type": "stream",
     "text": [
      "true\n",
      "false\n",
      "1\n",
      "true\n",
      ".::..::..::..::..::..::..::..::..::..::.\n",
      "apples, bananas and pineapples\n",
      "4\n"
     ]
    }
   ],
   "source": [
    "s1 = \"The quick brown fox jumps over the lazy dog α,β,γ\"\n",
    "\n",
    "println(\"a\" < \"b\")\n",
    "println(\"xylo\" == \"phone\")\n",
    "println(findfirst(isequal('x'), \"xylo\"))\n",
    "println(occursin(\"xylo\", \"xylophone\"))\n",
    "println(repeat(\".::.\", 10))\n",
    "println(join([\"apples\", \"bananas\", \"pineapples\"], \", \", \" and \"))\n",
    "println(length(\"boom\"))"
   ]
  },
  {
   "cell_type": "code",
   "execution_count": 8,
   "metadata": {
    "ExecuteTime": {
     "end_time": "2019-02-06T02:53:08.415000+05:30",
     "start_time": "2019-02-05T21:23:05.743Z"
    }
   },
   "outputs": [
    {
     "name": "stdout",
     "output_type": "stream",
     "text": [
      "1\n",
      "6\n",
      "5\n"
     ]
    }
   ],
   "source": [
    "println(firstindex(\"xyzzyx\"))\n",
    "println(lastindex(\"xyzzyx\"))\n",
    "println(length(\"xyzzyx\", 1 , 5))"
   ]
  },
  {
   "cell_type": "code",
   "execution_count": 9,
   "metadata": {
    "ExecuteTime": {
     "end_time": "2019-02-06T02:53:08.448000+05:30",
     "start_time": "2019-02-05T21:23:05.772Z"
    }
   },
   "outputs": [
    {
     "name": "stdout",
     "output_type": "stream",
     "text": [
      "The quick red fox jumps over the lazy dog αβγ quickly\n",
      "The fastly brown fox jumps over the lazy dog αβγ fastlyly\n",
      "The fastly brown fox jumps over the lazy dog αβγ quickly\n",
      "The fast brown fox jumps over the lazy dog αβγ quickly\n"
     ]
    }
   ],
   "source": [
    "s1 = \"The quick brown fox jumps over the lazy dog αβγ quickly\"\n",
    "println(replace(s1, \"brown\"=>\"red\"))\n",
    "println(replace(s1, \"quick\"=>\"fastly\"))\n",
    "println(replace(s1, \"quick\"=>\"fastly\", count=1))\n",
    "println(replace(s1, r\"quick(ly)?\"=>s\"fast\", count=1))"
   ]
  },
  {
   "cell_type": "code",
   "execution_count": 10,
   "metadata": {
    "ExecuteTime": {
     "end_time": "2019-02-06T02:53:09.138000+05:30",
     "start_time": "2019-02-05T21:23:05.803Z"
    }
   },
   "outputs": [
    {
     "name": "stdout",
     "output_type": "stream",
     "text": [
      "Regex\n",
      "true\n",
      "RegexMatch(\"#\")\n",
      "RegexMatch(\"acd\", 1=\"a\", 2=\"c\", 3=\"d\")\n",
      "RegexMatch(\"ad\", 1=\"a\", 2=nothing, 3=\"d\")\n",
      "ad\n",
      "Union{Nothing, SubString{String}}[\"a\", nothing, \"d\"]\n",
      "[1, 0, 2]\n"
     ]
    }
   ],
   "source": [
    "println(typeof(r\"^\\s*(?:#|$)\"))\n",
    "println(occursin(r\"^\\s*(?:#|$)\", \"# a comment\"))\n",
    "println(match(r\"^\\s*(?:#|$)\", \"# a comment\"))\n",
    "println(match(r\"(a|b)(c)?(d)\", \"acd\"))\n",
    "println(match(r\"(a|b)(c)?(d)\", \"ad\"))\n",
    "println(match(r\"(a|b)(c)?(d)\", \"ad\").match)\n",
    "println(match(r\"(a|b)(c)?(d)\", \"ad\").captures)\n",
    "println(match(r\"(a|b)(c)?(d)\", \"ad\").offsets)"
   ]
  },
  {
   "cell_type": "code",
   "execution_count": 11,
   "metadata": {
    "ExecuteTime": {
     "end_time": "2019-02-06T02:53:09.196000+05:30",
     "start_time": "2019-02-05T21:23:05.836Z"
    }
   },
   "outputs": [
    {
     "name": "stdout",
     "output_type": "stream",
     "text": [
      "\"quick\" \"brown\" \"jumps\" \"over\" \"lazy\" \"quickly\" "
     ]
    }
   ],
   "source": [
    "r = eachmatch(r\"[\\w]{4,}\", s1);\n",
    "for i in r print(\"\\\"$(i.match)\\\" \") end"
   ]
  },
  {
   "cell_type": "code",
   "execution_count": 12,
   "metadata": {
    "ExecuteTime": {
     "end_time": "2019-02-06T02:53:09.351000+05:30",
     "start_time": "2019-02-05T21:23:05.865Z"
    }
   },
   "outputs": [
    {
     "name": "stdout",
     "output_type": "stream",
     "text": [
      "SubString{String}[\"M\", \"O\", \"C\", \"H\", \"A\"]\n",
      "SubString{String}[\"M\", \"O\", \"C\", \"H\", \"A\"]\n",
      "SubString{String}[\"M.O.C.H\", \"A\"]\n"
     ]
    }
   ],
   "source": [
    "s1 = \"M.O.C.H.A\"\n",
    "println(split(s1, \".\"))\n",
    "#reverse split, starts from end\n",
    "println(rsplit(s1, \".\"))\n",
    "println(rsplit(s1, \".\", limit=2))"
   ]
  },
  {
   "cell_type": "code",
   "execution_count": 13,
   "metadata": {
    "ExecuteTime": {
     "end_time": "2019-02-06T02:53:10.054000+05:30",
     "start_time": "2019-02-05T21:23:05.898Z"
    }
   },
   "outputs": [
    {
     "name": "stdout",
     "output_type": "stream",
     "text": [
      "1962-07-10\n"
     ]
    },
    {
     "data": {
      "text/plain": [
       "RegexMatch(\"Day 10\")"
      ]
     },
     "execution_count": 13,
     "metadata": {},
     "output_type": "execute_result"
    }
   ],
   "source": [
    "using Dates\n",
    "\n",
    "println(Date(1962, 7, 10))\n",
    "d = Date(1962, 7, 10)\n",
    "regex_d = Regex(\"Day \" * string(day(d)))\n",
    "match(regex_d, \"It happened on Day 10\")"
   ]
  },
  {
   "cell_type": "markdown",
   "metadata": {},
   "source": [
    "## Arrays"
   ]
  },
  {
   "cell_type": "code",
   "execution_count": 14,
   "metadata": {
    "ExecuteTime": {
     "end_time": "2019-02-06T02:53:10.358000+05:30",
     "start_time": "2019-02-05T21:23:05.993Z"
    }
   },
   "outputs": [
    {
     "data": {
      "text/plain": [
       "printsum (generic function with 1 method)"
      ]
     },
     "execution_count": 14,
     "metadata": {},
     "output_type": "execute_result"
    }
   ],
   "source": [
    "function printsum(a)\n",
    "    # summary generates a summary of an object\n",
    "    println(summary(a), \": \", repr(a))\n",
    "end"
   ]
  },
  {
   "cell_type": "code",
   "execution_count": 15,
   "metadata": {
    "ExecuteTime": {
     "end_time": "2019-02-06T02:53:10.503000+05:30",
     "start_time": "2019-02-05T21:23:06.021Z"
    }
   },
   "outputs": [
    {
     "name": "stdout",
     "output_type": "stream",
     "text": [
      "3-element Array{Int64,1}: [1, 2, 3]\n"
     ]
    }
   ],
   "source": [
    "a1 = [1,2,3]\n",
    "printsum(a1)"
   ]
  },
  {
   "cell_type": "code",
   "execution_count": 16,
   "metadata": {
    "ExecuteTime": {
     "end_time": "2019-02-06T02:53:10.601000+05:30",
     "start_time": "2019-02-05T21:23:06.050Z"
    }
   },
   "outputs": [
    {
     "name": "stdout",
     "output_type": "stream",
     "text": [
      "0-element Array{Any,1}: Any[]\n"
     ]
    }
   ],
   "source": [
    "# Empty Array, NO Type!\n",
    "a2 = []\n",
    "printsum(a2)"
   ]
  },
  {
   "cell_type": "code",
   "execution_count": 17,
   "metadata": {
    "ExecuteTime": {
     "end_time": "2019-02-06T02:53:10.615000+05:30",
     "start_time": "2019-02-05T21:23:06.080Z"
    }
   },
   "outputs": [
    {
     "name": "stdout",
     "output_type": "stream",
     "text": [
      "0-element Array{Int64,1}: Int64[]\n"
     ]
    }
   ],
   "source": [
    "# Empty Array, INT Type!\n",
    "a3 = Int64[]\n",
    "printsum(a3)"
   ]
  },
  {
   "cell_type": "code",
   "execution_count": 18,
   "metadata": {
    "ExecuteTime": {
     "end_time": "2019-02-06T02:53:10.694000+05:30",
     "start_time": "2019-02-05T21:23:06.113Z"
    }
   },
   "outputs": [
    {
     "name": "stdout",
     "output_type": "stream",
     "text": [
      "20-element UnitRange{Int64}: 1:20\n"
     ]
    }
   ],
   "source": [
    "xrange = 1:20\n",
    "printsum(xrange)"
   ]
  },
  {
   "cell_type": "code",
   "execution_count": 19,
   "metadata": {
    "ExecuteTime": {
     "end_time": "2019-02-06T02:53:10.707000+05:30",
     "start_time": "2019-02-05T21:23:06.143Z"
    }
   },
   "outputs": [
    {
     "name": "stdout",
     "output_type": "stream",
     "text": [
      "20-element Array{Int64,1}: [1, 2, 3, 4, 5, 6, 7, 8, 9, 10, 11, 12, 13, 14, 15, 16, 17, 18, 19, 20]\n"
     ]
    }
   ],
   "source": [
    "printsum(collect(xrange))"
   ]
  },
  {
   "cell_type": "code",
   "execution_count": 20,
   "metadata": {
    "ExecuteTime": {
     "end_time": "2019-02-06T02:53:10.844000+05:30",
     "start_time": "2019-02-05T21:23:06.172Z"
    }
   },
   "outputs": [
    {
     "name": "stdout",
     "output_type": "stream",
     "text": [
      "11-element Array{Int128,1}: Int128[1125899906842624, 2251799813685248, 4503599627370496, 9007199254740992, 18014398509481984, 36028797018963968, 72057594037927936, 144115188075855872, 288230376151711744, 576460752303423488, 1152921504606846976]\n"
     ]
    }
   ],
   "source": [
    "printsum(Int128[2^i for i = 50:60])"
   ]
  },
  {
   "cell_type": "code",
   "execution_count": 21,
   "metadata": {
    "ExecuteTime": {
     "end_time": "2019-02-06T02:53:10.856000+05:30",
     "start_time": "2019-02-05T21:23:06.203Z"
    }
   },
   "outputs": [
    {
     "name": "stdout",
     "output_type": "stream",
     "text": [
      "4-element Array{Int64,1}: [1, 2, 3, 4]\n"
     ]
    }
   ],
   "source": [
    "push!(a1, 4)\n",
    "printsum(a1)"
   ]
  },
  {
   "cell_type": "code",
   "execution_count": 22,
   "metadata": {
    "ExecuteTime": {
     "end_time": "2019-02-06T02:53:11.103000+05:30",
     "start_time": "2019-02-05T21:23:06.235Z"
    }
   },
   "outputs": [
    {
     "name": "stdout",
     "output_type": "stream",
     "text": [
      "8-element Array{Int64,1}: [0, 0, 1, 1, 0, 0, 1, 1]\n"
     ]
    }
   ],
   "source": [
    "a7 = repeat([0, 1],inner=[2],outer=[2])\n",
    "printsum(a7)"
   ]
  },
  {
   "cell_type": "code",
   "execution_count": 23,
   "metadata": {
    "ExecuteTime": {
     "end_time": "2019-02-06T02:53:11.128000+05:30",
     "start_time": "2019-02-05T21:23:06.270Z"
    }
   },
   "outputs": [
    {
     "name": "stdout",
     "output_type": "stream",
     "text": [
      "16-element Array{Int64,1}: [4, 4, 3, 3, 2, 2, 1, 1, 4, 4, 3, 3, 2, 2, 1, 1]\n"
     ]
    }
   ],
   "source": [
    "a7 = repeat(collect(4:-1:1),inner=[2],outer=[2])\n",
    "printsum(a7)"
   ]
  },
  {
   "cell_type": "markdown",
   "metadata": {
    "ExecuteTime": {
     "end_time": "2019-02-05T23:47:14.508000+05:30",
     "start_time": "2019-02-05T18:17:14.496Z"
    }
   },
   "source": [
    "### Multidimensional Arrays"
   ]
  },
  {
   "cell_type": "code",
   "execution_count": 24,
   "metadata": {
    "ExecuteTime": {
     "end_time": "2019-02-06T02:53:11.308000+05:30",
     "start_time": "2019-02-05T21:23:06.377Z"
    }
   },
   "outputs": [
    {
     "name": "stdout",
     "output_type": "stream",
     "text": [
      "12×3 Array{Int64,2}: [1 1 1; 2 1 1; 1 2 1; 2 2 2; 1 3 2; 2 3 2; 1 1 3; 2 1 3; 1 2 3; 2 2 4; 1 3 4; 2 3 4]\n"
     ]
    }
   ],
   "source": [
    "m1 = hcat(repeat([1,2],inner=[1],outer=[3*2]),\n",
    "          repeat([1,2,3],inner=[2],outer=[2]),\n",
    "          repeat([1,2,3,4],inner=[3],outer=[1]))\n",
    "printsum(m1)"
   ]
  },
  {
   "cell_type": "code",
   "execution_count": 25,
   "metadata": {
    "ExecuteTime": {
     "end_time": "2019-02-06T02:53:11.452000+05:30",
     "start_time": "2019-02-05T21:23:06.408Z"
    }
   },
   "outputs": [
    {
     "name": "stdout",
     "output_type": "stream",
     "text": [
      "size: (12, 6)\n"
     ]
    }
   ],
   "source": [
    "m2 = repeat(m1,1,2)     # replicate m1 once into dim1 and twice into dim2\n",
    "println(\"size: \", size(m2))"
   ]
  },
  {
   "cell_type": "code",
   "execution_count": 26,
   "metadata": {
    "ExecuteTime": {
     "end_time": "2019-02-06T02:53:11.464000+05:30",
     "start_time": "2019-02-05T21:23:06.452Z"
    }
   },
   "outputs": [
    {
     "name": "stdout",
     "output_type": "stream",
     "text": [
      "size: (24, 3)\n"
     ]
    }
   ],
   "source": [
    "m2 = repeat(m1,2,1)     # replicate m1 once into dim1 and twice into dim2\n",
    "println(\"size: \", size(m2))"
   ]
  },
  {
   "cell_type": "code",
   "execution_count": 27,
   "metadata": {
    "ExecuteTime": {
     "end_time": "2019-02-06T02:53:12.519000+05:30",
     "start_time": "2019-02-05T21:23:06.488Z"
    }
   },
   "outputs": [
    {
     "data": {
      "text/plain": [
       "3×3×3 Array{Int64,3}:\n",
       "[:, :, 1] =\n",
       " 3  4  5\n",
       " 4  5  6\n",
       " 5  6  7\n",
       "\n",
       "[:, :, 2] =\n",
       " 4  5  6\n",
       " 5  6  7\n",
       " 6  7  8\n",
       "\n",
       "[:, :, 3] =\n",
       " 5  6  7\n",
       " 6  7  8\n",
       " 7  8  9"
      ]
     },
     "execution_count": 27,
     "metadata": {},
     "output_type": "execute_result"
    }
   ],
   "source": [
    "m4 = [i+j+k for i=1:3, j=1:3, k=1:3]"
   ]
  },
  {
   "cell_type": "code",
   "execution_count": 28,
   "metadata": {
    "ExecuteTime": {
     "end_time": "2019-02-06T02:53:13.229000+05:30",
     "start_time": "2019-02-05T21:23:06.558Z"
    }
   },
   "outputs": [
    {
     "data": {
      "text/plain": [
       "2×3×2 Array{String,3}:\n",
       "[:, :, 1] =\n",
       " \"Hi Im # 1\"  \"Hi Im # 3\"  \"Hi Im # 5\"\n",
       " \"Hi Im # 2\"  \"Hi Im # 4\"  \"Hi Im # 6\"\n",
       "\n",
       "[:, :, 2] =\n",
       " \"Hi Im # 7\"  \"Hi Im # 9\"   \"Hi Im # 11\"\n",
       " \"Hi Im # 8\"  \"Hi Im # 10\"  \"Hi Im # 12\""
      ]
     },
     "execution_count": 28,
     "metadata": {},
     "output_type": "execute_result"
    }
   ],
   "source": [
    "m5 = [\"Hi Im # $(i+2*(j-1 + 3*(k-1)))\" for i=1:2, j=1:3, k=1:2]"
   ]
  },
  {
   "cell_type": "code",
   "execution_count": 29,
   "metadata": {
    "ExecuteTime": {
     "end_time": "2019-02-06T02:53:13.556000+05:30",
     "start_time": "2019-02-05T21:23:06.591Z"
    }
   },
   "outputs": [
    {
     "data": {
      "text/plain": [
       "162"
      ]
     },
     "execution_count": 29,
     "metadata": {},
     "output_type": "execute_result"
    }
   ],
   "source": [
    "sum(m4[:,:,:]) "
   ]
  },
  {
   "cell_type": "code",
   "execution_count": 30,
   "metadata": {
    "ExecuteTime": {
     "end_time": "2019-02-06T02:53:14.277000+05:30",
     "start_time": "2019-02-05T21:23:06.623Z"
    }
   },
   "outputs": [
    {
     "data": {
      "text/plain": [
       "3-element Array{Int64,1}:\n",
       " 45\n",
       " 54\n",
       " 63"
      ]
     },
     "execution_count": 30,
     "metadata": {},
     "output_type": "execute_result"
    }
   ],
   "source": [
    "[sum(m4[:,i,:]) for i =1:3]"
   ]
  },
  {
   "cell_type": "code",
   "execution_count": 31,
   "metadata": {
    "ExecuteTime": {
     "end_time": "2019-02-06T02:53:14.370000+05:30",
     "start_time": "2019-02-05T21:23:06.651Z"
    }
   },
   "outputs": [
    {
     "data": {
      "text/plain": [
       "3-element Array{Int64,1}:\n",
       " 7\n",
       " 8\n",
       " 9"
      ]
     },
     "execution_count": 31,
     "metadata": {},
     "output_type": "execute_result"
    }
   ],
   "source": [
    "[maximum(m4[:,i,:]) for i =1:3]"
   ]
  },
  {
   "cell_type": "code",
   "execution_count": 32,
   "metadata": {
    "ExecuteTime": {
     "end_time": "2019-02-06T02:53:14.520000+05:30",
     "start_time": "2019-02-05T21:23:06.686Z"
    }
   },
   "outputs": [
    {
     "data": {
      "text/plain": [
       "3×3×3 Array{Int64,3}:\n",
       "[:, :, 1] =\n",
       " 3  4  5\n",
       " 4  5  6\n",
       " 5  6  7\n",
       "\n",
       "[:, :, 2] =\n",
       " 4  5  6\n",
       " 5  6  7\n",
       " 6  7  8\n",
       "\n",
       "[:, :, 3] =\n",
       " 5  6  7\n",
       " 6  7  8\n",
       " 7  8  9"
      ]
     },
     "execution_count": 32,
     "metadata": {},
     "output_type": "execute_result"
    }
   ],
   "source": [
    "# squeeze\n",
    "m5 = reshape(m4, (3,1,3,1,3,1))\n",
    "dropdims(m5, dims=(2,4,6))"
   ]
  },
  {
   "cell_type": "code",
   "execution_count": 33,
   "metadata": {
    "ExecuteTime": {
     "end_time": "2019-02-06T02:53:15.263000+05:30",
     "start_time": "2019-02-05T21:23:06.716Z"
    }
   },
   "outputs": [
    {
     "data": {
      "text/plain": [
       "([3; 4; 5], CartesianIndex{2}[CartesianIndex(1, 3); CartesianIndex(2, 3); CartesianIndex(3, 3)])"
      ]
     },
     "execution_count": 33,
     "metadata": {},
     "output_type": "execute_result"
    }
   ],
   "source": [
    "findmax([i+j for i=1:3, j=0:2], dims=(2))"
   ]
  },
  {
   "cell_type": "code",
   "execution_count": 34,
   "metadata": {
    "ExecuteTime": {
     "end_time": "2019-02-06T02:53:15.404000+05:30",
     "start_time": "2019-02-05T21:23:06.748Z"
    }
   },
   "outputs": [
    {
     "data": {
      "text/plain": [
       "4×3×2 Array{Int64,3}:\n",
       "[:, :, 1] =\n",
       " 1  1  1\n",
       " 1  1  1\n",
       " 1  1  1\n",
       " 1  1  1\n",
       "\n",
       "[:, :, 2] =\n",
       " 2  2  2\n",
       " 2  2  2\n",
       " 2  2  2\n",
       " 2  2  2"
      ]
     },
     "execution_count": 34,
     "metadata": {},
     "output_type": "execute_result"
    }
   ],
   "source": [
    "#reshape\n",
    "m6 = [minimum([i,j,k]) for i=1:2, j=3:5, k=6:9]\n",
    "permutedims(m6, (3,2,1))"
   ]
  },
  {
   "cell_type": "code",
   "execution_count": 35,
   "metadata": {
    "ExecuteTime": {
     "end_time": "2019-02-06T02:53:15.855000+05:30",
     "start_time": "2019-02-05T21:23:06.778Z"
    }
   },
   "outputs": [
    {
     "data": {
      "text/plain": [
       "(2, 2)"
      ]
     },
     "execution_count": 35,
     "metadata": {},
     "output_type": "execute_result"
    }
   ],
   "source": [
    "# elementwise and broadcasting\n",
    "m8 = rand(2,2) .- sum(rand(2,2));\n",
    "size(m8 .+ [1,1])"
   ]
  },
  {
   "cell_type": "code",
   "execution_count": 36,
   "metadata": {
    "ExecuteTime": {
     "end_time": "2019-02-06T02:53:16.645000+05:30",
     "start_time": "2019-02-05T21:23:06.807Z"
    }
   },
   "outputs": [
    {
     "data": {
      "text/plain": [
       "2-element Array{Float64,1}:\n",
       " -0.002135360327698008 \n",
       " -0.0027321525593972896"
      ]
     },
     "execution_count": 36,
     "metadata": {},
     "output_type": "execute_result"
    }
   ],
   "source": [
    "mm = m8[:,1]\n",
    "mm .*= 0.001"
   ]
  },
  {
   "cell_type": "markdown",
   "metadata": {},
   "source": [
    "## Dictionaries"
   ]
  },
  {
   "cell_type": "code",
   "execution_count": 37,
   "metadata": {
    "ExecuteTime": {
     "end_time": "2019-02-06T02:53:16.764000+05:30",
     "start_time": "2019-02-05T21:23:06.921Z"
    }
   },
   "outputs": [
    {
     "name": "stdout",
     "output_type": "stream",
     "text": [
      "Dict{Int64,String} with 3 entries: Dict(2=>\"two\",3=>\"Three\",1=>\"one\")\n"
     ]
    }
   ],
   "source": [
    "a1 = Dict(1=>\"one\", 2=>\"two\")\n",
    "a1[3]=\"Three\"\n",
    "printsum(a1)"
   ]
  },
  {
   "cell_type": "code",
   "execution_count": 38,
   "metadata": {
    "ExecuteTime": {
     "end_time": "2019-02-06T02:53:17.051000+05:30",
     "start_time": "2019-02-05T21:23:06.948Z"
    }
   },
   "outputs": [
    {
     "name": "stdout",
     "output_type": "stream",
     "text": [
      "4-element Array{AbstractString,1}: AbstractString[\"Zero\", \"Two\", \"Three\", \"One\"]\n"
     ]
    }
   ],
   "source": [
    "a2 = Dict{Int64, AbstractString}()\n",
    "a2[0] = \"Zero\"\n",
    "for key in keys(a1)\n",
    "    a2[key] = uppercasefirst(a1[key])\n",
    "end\n",
    "printsum(collect(values(a2)))"
   ]
  },
  {
   "cell_type": "code",
   "execution_count": 39,
   "metadata": {
    "ExecuteTime": {
     "end_time": "2019-02-06T02:53:17.606000+05:30",
     "start_time": "2019-02-05T21:23:06.974Z"
    }
   },
   "outputs": [
    {
     "data": {
      "text/plain": [
       "Dict{Int64,String} with 4 entries:\n",
       "  0 => \"Zero\"\n",
       "  2 => \"Two\"\n",
       "  3 => \"Three\"\n",
       "  1 => \"One\""
      ]
     },
     "execution_count": 39,
     "metadata": {},
     "output_type": "execute_result"
    }
   ],
   "source": [
    "a3 = Dict([key=>@sprintf(\"%s\", a2[key]) for key in keys(a2)])"
   ]
  },
  {
   "cell_type": "code",
   "execution_count": 40,
   "metadata": {
    "ExecuteTime": {
     "end_time": "2019-02-06T02:53:17.687000+05:30",
     "start_time": "2019-02-05T21:23:07.002Z"
    }
   },
   "outputs": [
    {
     "data": {
      "text/plain": [
       "Dict{Int64,String} with 4 entries:\n",
       "  0 => \"true\"\n",
       "  2 => \"true\"\n",
       "  3 => \"true\"\n",
       "  1 => \"true\""
      ]
     },
     "execution_count": 40,
     "metadata": {},
     "output_type": "execute_result"
    }
   ],
   "source": [
    "a4 = Dict([key=>@sprintf(\"%s\", haskey(a3,key)) for key in keys(a3)])"
   ]
  },
  {
   "cell_type": "markdown",
   "metadata": {},
   "source": [
    "## Loops and Maps"
   ]
  },
  {
   "cell_type": "code",
   "execution_count": 41,
   "metadata": {
    "ExecuteTime": {
     "end_time": "2019-02-06T02:53:17.707000+05:30",
     "start_time": "2019-02-05T21:23:07.090Z"
    }
   },
   "outputs": [
    {
     "name": "stdout",
     "output_type": "stream",
     "text": [
      "1, 2, 3, 4, 5, "
     ]
    }
   ],
   "source": [
    "for i in 1:5\n",
    "    print(i, \", \")\n",
    "end"
   ]
  },
  {
   "cell_type": "code",
   "execution_count": 42,
   "metadata": {
    "ExecuteTime": {
     "end_time": "2019-02-06T02:53:17.724000+05:30",
     "start_time": "2019-02-05T21:23:07.123Z"
    }
   },
   "outputs": [
    {
     "name": "stdout",
     "output_type": "stream",
     "text": [
      "1, 2, 3, 4, 5, \n"
     ]
    }
   ],
   "source": [
    "for i = 1:5\n",
    "    print(i, \", \")\n",
    "end\n",
    "println()"
   ]
  },
  {
   "cell_type": "code",
   "execution_count": 43,
   "metadata": {
    "ExecuteTime": {
     "end_time": "2019-02-06T02:53:17.754000+05:30",
     "start_time": "2019-02-05T21:23:07.152Z"
    }
   },
   "outputs": [
    {
     "name": "stdout",
     "output_type": "stream",
     "text": [
      "1, 2, 3, 4, \n"
     ]
    }
   ],
   "source": [
    "a1 = [1,2,3,4]\n",
    "for i in a1\n",
    "    print(i, \", \")\n",
    "end\n",
    "println()"
   ]
  },
  {
   "cell_type": "code",
   "execution_count": 44,
   "metadata": {
    "ExecuteTime": {
     "end_time": "2019-02-06T02:53:17.780000+05:30",
     "start_time": "2019-02-05T21:23:07.184Z"
    }
   },
   "outputs": [
    {
     "name": "stdout",
     "output_type": "stream",
     "text": [
      "2, 4, 6, 8, \n"
     ]
    }
   ],
   "source": [
    "a2 = collect(1:20)\n",
    "for i in a2\n",
    "    if i % 2 != 0\n",
    "        continue\n",
    "    end\n",
    "    print(i, \", \")\n",
    "    if i >= 8\n",
    "        break\n",
    "    end\n",
    "end\n",
    "println()"
   ]
  },
  {
   "cell_type": "code",
   "execution_count": 45,
   "metadata": {
    "ExecuteTime": {
     "end_time": "2019-02-06T02:53:17.808000+05:30",
     "start_time": "2019-02-05T21:23:07.213Z"
    }
   },
   "outputs": [
    {
     "name": "stdout",
     "output_type": "stream",
     "text": [
      "4, 3, 2, 1, \n"
     ]
    }
   ],
   "source": [
    "while !isempty(a1)\n",
    "    print(pop!(a1), \", \")\n",
    "end\n",
    "println()"
   ]
  },
  {
   "cell_type": "code",
   "execution_count": 46,
   "metadata": {
    "ExecuteTime": {
     "end_time": "2019-02-06T02:53:17.876000+05:30",
     "start_time": "2019-02-05T21:23:07.243Z"
    }
   },
   "outputs": [
    {
     "name": "stdout",
     "output_type": "stream",
     "text": [
      "1: one, 2: two, 3: three, \n"
     ]
    }
   ],
   "source": [
    "d1 = Dict(1=>\"one\", 2=>\"two\", 3=>\"three\")\n",
    "# dicts may be looped through using the keys function:\n",
    "for k in sort(collect(keys(d1)))\n",
    "    print(k, \": \", d1[k], \", \")\n",
    "end\n",
    "println()"
   ]
  },
  {
   "cell_type": "code",
   "execution_count": 47,
   "metadata": {
    "ExecuteTime": {
     "end_time": "2019-02-06T02:53:17.909000+05:30",
     "start_time": "2019-02-05T21:23:07.270Z"
    }
   },
   "outputs": [
    {
     "name": "stdout",
     "output_type": "stream",
     "text": [
      "1: one, 2: two, 3: three, \n"
     ]
    }
   ],
   "source": [
    "a3 = [\"one\", \"two\", \"three\"]\n",
    "for (i, v) in enumerate(a3)\n",
    "    print(i, \": \", v, \", \")\n",
    "end\n",
    "println()"
   ]
  },
  {
   "cell_type": "code",
   "execution_count": 48,
   "metadata": {
    "ExecuteTime": {
     "end_time": "2019-02-06T02:53:17.973000+05:30",
     "start_time": "2019-02-05T21:23:07.298Z"
    }
   },
   "outputs": [
    {
     "name": "stdout",
     "output_type": "stream",
     "text": [
      "[1, 4, 9, 49]"
     ]
    }
   ],
   "source": [
    "a4 = map((x) -> x^2, [1, 2, 3, 7])\n",
    "print(a4)"
   ]
  },
  {
   "cell_type": "markdown",
   "metadata": {},
   "source": [
    "## Types"
   ]
  },
  {
   "cell_type": "code",
   "execution_count": 49,
   "metadata": {
    "ExecuteTime": {
     "end_time": "2019-02-06T02:53:18.307000+05:30",
     "start_time": "2019-02-05T21:23:07.388Z"
    }
   },
   "outputs": [
    {
     "data": {
      "text/plain": [
       "Person(\"Julia\", false, 4, 0)"
      ]
     },
     "execution_count": 49,
     "metadata": {},
     "output_type": "execute_result"
    }
   ],
   "source": [
    "# simple typedef with no constructor\n",
    "struct Person\n",
    "    name::AbstractString\n",
    "    male::Bool\n",
    "    age::Int32\n",
    "    children::Int32\n",
    "end\n",
    "\n",
    "Person(\"Julia\", false, 4, 0)"
   ]
  },
  {
   "cell_type": "code",
   "execution_count": 50,
   "metadata": {
    "ExecuteTime": {
     "end_time": "2019-02-06T02:53:18.430000+05:30",
     "start_time": "2019-02-05T21:23:07.415Z"
    }
   },
   "outputs": [
    {
     "name": "stdout",
     "output_type": "stream",
     "text": [
      "2-element Array{Person,1}: Person[Person(\"Guy\", true, 34, 0), Person(\"Doe\", true, 14, 0)]\n"
     ]
    }
   ],
   "source": [
    "Personslist = Person[]\n",
    "push!(Personslist, Person(\"Guy\", true, 34, 0))\n",
    "push!(Personslist, Person(\"Doe\", true, 14, 0))\n",
    "printsum(Personslist)"
   ]
  },
  {
   "cell_type": "code",
   "execution_count": 51,
   "metadata": {
    "ExecuteTime": {
     "end_time": "2019-02-06T02:53:18.444000+05:30",
     "start_time": "2019-02-05T21:23:07.443Z"
    }
   },
   "outputs": [],
   "source": [
    "# typedef with constructor\n",
    "struct Family\n",
    "    name::AbstractString\n",
    "    members::Array{AbstractString, 1}\n",
    "    large_family::Bool\n",
    "    Family(name::String) = new(name, AbstractString[name], false)\n",
    "    Family(name::String, members::Array{String,1}) = new(name, members, length(members)>3)\n",
    "end"
   ]
  },
  {
   "cell_type": "code",
   "execution_count": 52,
   "metadata": {
    "ExecuteTime": {
     "end_time": "2019-02-06T02:53:19.038000+05:30",
     "start_time": "2019-02-05T21:23:07.474Z"
    }
   },
   "outputs": [
    {
     "data": {
      "text/plain": [
       "0-element Array{Family,1}"
      ]
     },
     "execution_count": 52,
     "metadata": {},
     "output_type": "execute_result"
    }
   ],
   "source": [
    "familylist = Family[]"
   ]
  },
  {
   "cell_type": "code",
   "execution_count": 53,
   "metadata": {
    "ExecuteTime": {
     "end_time": "2019-02-06T02:53:19.536000+05:30",
     "start_time": "2019-02-05T21:23:07.498Z"
    }
   },
   "outputs": [
    {
     "name": "stdout",
     "output_type": "stream",
     "text": [
      "Family[Family(\"Joneses\", AbstractString[\"Joneses\"], false), Family(\"joneses\", AbstractString[\"anna\", \"bob\", \"charlie\", \"dick\"], true)]\n"
     ]
    }
   ],
   "source": [
    "push!(familylist, Family(\"Joneses\"))\n",
    "push!(familylist, Family(\"joneses\", [\"anna\", \"bob\", \"charlie\", \"dick\"]))\n",
    "println(familylist)"
   ]
  },
  {
   "cell_type": "markdown",
   "metadata": {},
   "source": [
    "## I/O"
   ]
  },
  {
   "cell_type": "code",
   "execution_count": 54,
   "metadata": {
    "ExecuteTime": {
     "end_time": "2019-02-06T02:53:19.997000+05:30",
     "start_time": "2019-02-05T21:23:07.587Z"
    }
   },
   "outputs": [],
   "source": [
    "tempfile = \"Buzz.Fuzz\"\n",
    "f = open(tempfile, \"w\")\n",
    "for record in familylist\n",
    "    println(f, record)\n",
    "end\n",
    "close(f)"
   ]
  },
  {
   "cell_type": "code",
   "execution_count": 55,
   "metadata": {
    "ExecuteTime": {
     "end_time": "2019-02-06T02:53:20.022000+05:30",
     "start_time": "2019-02-05T21:23:07.614Z"
    }
   },
   "outputs": [
    {
     "name": "stdout",
     "output_type": "stream",
     "text": [
      "Family(\"Joneses\", AbstractString[\"Joneses\"], false)\n",
      "Family(\"joneses\", AbstractString[\"anna\", \"bob\", \"charlie\", \"dick\"], true)\n"
     ]
    }
   ],
   "source": [
    "# \"do\" takes care of contexts\n",
    "open(tempfile, \"r\") do f\n",
    "    for line in eachline(f)\n",
    "        println(line)\n",
    "    end\n",
    "end"
   ]
  },
  {
   "cell_type": "markdown",
   "metadata": {
    "ExecuteTime": {
     "end_time": "2019-02-06T02:46:41.661000+05:30",
     "start_time": "2019-02-05T21:16:41.649Z"
    }
   },
   "source": [
    "## DataFrames"
   ]
  },
  {
   "cell_type": "code",
   "execution_count": 121,
   "metadata": {
    "ExecuteTime": {
     "end_time": "2019-02-06T03:31:24.980000+05:30",
     "start_time": "2019-02-05T22:01:24.968Z"
    }
   },
   "outputs": [],
   "source": [
    "using DataFrames, CSV, RData, RDatasets"
   ]
  },
  {
   "cell_type": "code",
   "execution_count": 122,
   "metadata": {
    "ExecuteTime": {
     "end_time": "2019-02-06T03:31:25.267000+05:30",
     "start_time": "2019-02-05T22:01:25.253Z"
    }
   },
   "outputs": [
    {
     "name": "stdout",
     "output_type": "stream",
     "text": [
      "2×3 DataFrame\n",
      "│ Row │ A     │ B       │ C      │\n",
      "│     │ \u001b[90mInt64\u001b[39m │ \u001b[90mFloat64\u001b[39m │ \u001b[90mString\u001b[39m │\n",
      "├─────┼───────┼─────────┼────────┤\n",
      "│ 1   │ 1     │ 2.71828 │ xx     │\n",
      "│ 2   │ 2     │ 3.14159 │ xy     │"
     ]
    }
   ],
   "source": [
    "df = DataFrame(A = [1, 2], B = [exp(1), pi], C = [\"xx\", \"xy\"])\n",
    "show(df)"
   ]
  },
  {
   "cell_type": "code",
   "execution_count": 123,
   "metadata": {
    "ExecuteTime": {
     "end_time": "2019-02-06T03:31:25.443000+05:30",
     "start_time": "2019-02-05T22:01:25.431Z"
    }
   },
   "outputs": [
    {
     "name": "stdout",
     "output_type": "stream",
     "text": [
      "[1, 2]"
     ]
    }
   ],
   "source": [
    "show(df[1])"
   ]
  },
  {
   "cell_type": "code",
   "execution_count": 124,
   "metadata": {
    "ExecuteTime": {
     "end_time": "2019-02-06T03:31:25.621000+05:30",
     "start_time": "2019-02-05T22:01:25.609Z"
    }
   },
   "outputs": [
    {
     "name": "stdout",
     "output_type": "stream",
     "text": [
      "[1, 2]"
     ]
    }
   ],
   "source": [
    "show(df[:A])"
   ]
  },
  {
   "cell_type": "code",
   "execution_count": 125,
   "metadata": {
    "ExecuteTime": {
     "end_time": "2019-02-06T03:31:25.832000+05:30",
     "start_time": "2019-02-05T22:01:25.819Z"
    }
   },
   "outputs": [
    {
     "data": {
      "text/latex": [
       "\\begin{verbatim}\n",
       "CSV.write(file::Union{String, IO}, file; kwargs...) => file\n",
       "table |> CSV.write(file::Union{String, IO}; kwargs...) => file\n",
       "\\end{verbatim}\n",
       "Write a \\href{https://github.com/JuliaData/Tables.jl}{Tables.jl interface input} to a csv file, given as an \\texttt{IO} argument or String representing the file name to write to.\n",
       "\n",
       "Keyword arguments include:\n",
       "\n",
       "\\begin{itemize}\n",
       "\\item \\texttt{delim::Union\\{Char, String\\}=','}: a character or string to print out as the file's delimiter\n",
       "\n",
       "\n",
       "\\item \\texttt{quotechar::Char='\"'}: character to use for quoting text fields that may contain delimiters or newlines\n",
       "\n",
       "\n",
       "\\item \\texttt{openquotechar::Char}: instead of \\texttt{quotechar}, use \\texttt{openquotechar} and \\texttt{closequotechar} to support different starting and ending quote characters\n",
       "\n",
       "\n",
       "\\item \\texttt{escapechar::Char='{\\textbackslash}'}: character used to escape quote characters in a text field\n",
       "\n",
       "\n",
       "\\item \\texttt{missingstring::String=\"\"}: string to print \n",
       "\n",
       "\n",
       "\\item \\texttt{dateformat=Dates.default\\_format(T)}: the date format string to use for printing out Date \\& DateTime columns\n",
       "\n",
       "\n",
       "\\item \\texttt{append=false}: whether to append writing to an existing file/IO, if \\texttt{true}, it will not write column names by default\n",
       "\n",
       "\n",
       "\\item \\texttt{writeheader=!append}: whether to write an initial row of delimited column names, not written by default if appending\n",
       "\n",
       "\n",
       "\\item \\texttt{header}: pass a list of column names (Symbols or Strings) to use instead of the column names of the input table\n",
       "\n",
       "\\end{itemize}\n"
      ],
      "text/markdown": [
       "```\n",
       "CSV.write(file::Union{String, IO}, file; kwargs...) => file\n",
       "table |> CSV.write(file::Union{String, IO}; kwargs...) => file\n",
       "```\n",
       "\n",
       "Write a [Tables.jl interface input](https://github.com/JuliaData/Tables.jl) to a csv file, given as an `IO` argument or String representing the file name to write to.\n",
       "\n",
       "Keyword arguments include:\n",
       "\n",
       "  * `delim::Union{Char, String}=','`: a character or string to print out as the file's delimiter\n",
       "  * `quotechar::Char='\"'`: character to use for quoting text fields that may contain delimiters or newlines\n",
       "  * `openquotechar::Char`: instead of `quotechar`, use `openquotechar` and `closequotechar` to support different starting and ending quote characters\n",
       "  * `escapechar::Char='\\'`: character used to escape quote characters in a text field\n",
       "  * `missingstring::String=\"\"`: string to print\n",
       "  * `dateformat=Dates.default_format(T)`: the date format string to use for printing out Date & DateTime columns\n",
       "  * `append=false`: whether to append writing to an existing file/IO, if `true`, it will not write column names by default\n",
       "  * `writeheader=!append`: whether to write an initial row of delimited column names, not written by default if appending\n",
       "  * `header`: pass a list of column names (Symbols or Strings) to use instead of the column names of the input table\n"
      ],
      "text/plain": [
       "  \u001b[39mCSV\u001b[0m\u001b[38;2;249;38;114m.\u001b[0m\u001b[38;2;102;217;239mwrite\u001b[0m(\u001b[0m\u001b[39mfile\u001b[0m\u001b[38;2;102;217;239m::\u001b[0m\u001b[38;2;102;217;239mUnion\u001b[0m\u001b[39m{\u001b[0m\u001b[39mString\u001b[0m\u001b[39m,\u001b[0m \u001b[0m\u001b[39mIO\u001b[0m\u001b[39m}\u001b[0m\u001b[39m,\u001b[0m \u001b[0m\u001b[39mfile\u001b[0m\u001b[39m;\u001b[0m \u001b[0m\u001b[39mkwargs\u001b[0m\u001b[38;2;249;38;114m...\u001b[0m\u001b[39m)\u001b[0m \u001b[0m\u001b[38;2;249;38;114m=>\u001b[0m \u001b[0m\u001b[39mfile\u001b[0m\n",
       "  \u001b[0m\u001b[39mtable\u001b[0m \u001b[0m\u001b[38;2;249;38;114m|>\u001b[0m \u001b[0m\u001b[39mCSV\u001b[0m\u001b[38;2;249;38;114m.\u001b[0m\u001b[38;2;102;217;239mwrite\u001b[0m(\u001b[0m\u001b[39mfile\u001b[0m\u001b[38;2;102;217;239m::\u001b[0m\u001b[38;2;102;217;239mUnion\u001b[0m\u001b[39m{\u001b[0m\u001b[39mString\u001b[0m\u001b[39m,\u001b[0m \u001b[0m\u001b[39mIO\u001b[0m\u001b[39m}\u001b[0m\u001b[39m;\u001b[0m \u001b[0m\u001b[39mkwargs\u001b[0m\u001b[38;2;249;38;114m...\u001b[0m\u001b[39m)\u001b[0m \u001b[0m\u001b[38;2;249;38;114m=>\u001b[0m \u001b[0m\u001b[39mfile\u001b[0m\u001b[39m\u001b[0m\n",
       "\n",
       "\n",
       "  Write a Tables.jl interface input (https://github.com/JuliaData/Tables.jl)\n",
       "  to a csv file, given as an \u001b[36mIO\u001b[39m argument or String representing the file name\n",
       "  to write to.\n",
       "\n",
       "  Keyword arguments include:\n",
       "\n",
       "    •    \u001b[36mdelim::Union{Char, String}=','\u001b[39m: a character or string to print out\n",
       "        as the file's delimiter\n",
       "\n",
       "    •    \u001b[36mquotechar::Char='\"'\u001b[39m: character to use for quoting text fields that\n",
       "        may contain delimiters or newlines\n",
       "\n",
       "    •    \u001b[36mopenquotechar::Char\u001b[39m: instead of \u001b[36mquotechar\u001b[39m, use \u001b[36mopenquotechar\u001b[39m and\n",
       "        \u001b[36mclosequotechar\u001b[39m to support different starting and ending quote\n",
       "        characters\n",
       "\n",
       "    •    \u001b[36mescapechar::Char='\\'\u001b[39m: character used to escape quote characters in\n",
       "        a text field\n",
       "\n",
       "    •    \u001b[36mmissingstring::String=\"\"\u001b[39m: string to print \n",
       "\n",
       "    •    \u001b[36mdateformat=Dates.default_format(T)\u001b[39m: the date format string to use\n",
       "        for printing out Date & DateTime columns\n",
       "\n",
       "    •    \u001b[36mappend=false\u001b[39m: whether to append writing to an existing file/IO, if\n",
       "        \u001b[36mtrue\u001b[39m, it will not write column names by default\n",
       "\n",
       "    •    \u001b[36mwriteheader=!append\u001b[39m: whether to write an initial row of delimited\n",
       "        column names, not written by default if appending\n",
       "\n",
       "    •    \u001b[36mheader\u001b[39m: pass a list of column names (Symbols or Strings) to use\n",
       "        instead of the column names of the input table"
      ]
     },
     "execution_count": 125,
     "metadata": {},
     "output_type": "execute_result"
    }
   ],
   "source": [
    "?CSV.write"
   ]
  },
  {
   "cell_type": "code",
   "execution_count": 146,
   "metadata": {
    "ExecuteTime": {
     "end_time": "2019-02-06T03:32:43.986000+05:30",
     "start_time": "2019-02-05T22:02:43.970Z"
    }
   },
   "outputs": [
    {
     "data": {
      "text/html": [
       "<table class=\"data-frame\"><thead><tr><th></th><th>SepalLength</th><th>SepalWidth</th><th>PetalLength</th><th>PetalWidth</th><th>Species</th></tr><tr><th></th><th>Float64⍰</th><th>Float64⍰</th><th>Float64⍰</th><th>Float64⍰</th><th>String⍰</th></tr></thead><tbody><p>6 rows × 5 columns</p><tr><th>1</th><td>5.1</td><td>3.5</td><td>1.4</td><td>0.2</td><td>setosa</td></tr><tr><th>2</th><td>4.9</td><td>3.0</td><td>1.4</td><td>0.2</td><td>setosa</td></tr><tr><th>3</th><td>4.7</td><td>3.2</td><td>1.3</td><td>0.2</td><td>setosa</td></tr><tr><th>4</th><td>4.6</td><td>3.1</td><td>1.5</td><td>0.2</td><td>setosa</td></tr><tr><th>5</th><td>5.0</td><td>3.6</td><td>1.4</td><td>0.2</td><td>setosa</td></tr><tr><th>6</th><td>5.4</td><td>3.9</td><td>1.7</td><td>0.4</td><td>setosa</td></tr></tbody></table>"
      ],
      "text/latex": [
       "\\begin{tabular}{r|ccccc}\n",
       "\t& SepalLength & SepalWidth & PetalLength & PetalWidth & Species\\\\\n",
       "\t\\hline\n",
       "\t& Float64⍰ & Float64⍰ & Float64⍰ & Float64⍰ & String⍰\\\\\n",
       "\t\\hline\n",
       "\t1 & 5.1 & 3.5 & 1.4 & 0.2 & setosa \\\\\n",
       "\t2 & 4.9 & 3.0 & 1.4 & 0.2 & setosa \\\\\n",
       "\t3 & 4.7 & 3.2 & 1.3 & 0.2 & setosa \\\\\n",
       "\t4 & 4.6 & 3.1 & 1.5 & 0.2 & setosa \\\\\n",
       "\t5 & 5.0 & 3.6 & 1.4 & 0.2 & setosa \\\\\n",
       "\t6 & 5.4 & 3.9 & 1.7 & 0.4 & setosa \\\\\n",
       "\\end{tabular}\n"
      ],
      "text/plain": [
       "6×5 DataFrame\n",
       "│ Row │ SepalLength │ SepalWidth │ PetalLength │ PetalWidth │ Species │\n",
       "│     │ \u001b[90mFloat64⍰\u001b[39m    │ \u001b[90mFloat64⍰\u001b[39m   │ \u001b[90mFloat64⍰\u001b[39m    │ \u001b[90mFloat64⍰\u001b[39m   │ \u001b[90mString⍰\u001b[39m │\n",
       "├─────┼─────────────┼────────────┼─────────────┼────────────┼─────────┤\n",
       "│ 1   │ 5.1         │ 3.5        │ 1.4         │ 0.2        │ setosa  │\n",
       "│ 2   │ 4.9         │ 3.0        │ 1.4         │ 0.2        │ setosa  │\n",
       "│ 3   │ 4.7         │ 3.2        │ 1.3         │ 0.2        │ setosa  │\n",
       "│ 4   │ 4.6         │ 3.1        │ 1.5         │ 0.2        │ setosa  │\n",
       "│ 5   │ 5.0         │ 3.6        │ 1.4         │ 0.2        │ setosa  │\n",
       "│ 6   │ 5.4         │ 3.9        │ 1.7         │ 0.4        │ setosa  │"
      ]
     },
     "execution_count": 146,
     "metadata": {},
     "output_type": "execute_result"
    }
   ],
   "source": [
    "# load adn save\n",
    "iris = dataset(\"datasets\",\"iris\")\n",
    "CSV.write(\"iris.csv\", iris)\n",
    "iris = CSV.read(\"iris.csv\")\n",
    "first(iris, 6)"
   ]
  },
  {
   "cell_type": "code",
   "execution_count": 147,
   "metadata": {
    "ExecuteTime": {
     "end_time": "2019-02-06T03:32:44.698000+05:30",
     "start_time": "2019-02-05T22:02:44.686Z"
    }
   },
   "outputs": [
    {
     "name": "stdout",
     "output_type": "stream",
     "text": [
      "Symbol[:SepalLength, :SepalWidth, :PetalLength, :PetalWidth, :Species]"
     ]
    }
   ],
   "source": [
    "show(names(iris))"
   ]
  },
  {
   "cell_type": "code",
   "execution_count": 148,
   "metadata": {
    "ExecuteTime": {
     "end_time": "2019-02-06T03:32:45.359000+05:30",
     "start_time": "2019-02-05T22:02:45.346Z"
    }
   },
   "outputs": [
    {
     "name": "stdout",
     "output_type": "stream",
     "text": [
      "Union[Union{Missing, Float64}, Union{Missing, Float64}, Union{Missing, Float64}, Union{Missing, Float64}, Union{Missing, String}]"
     ]
    }
   ],
   "source": [
    "show(eltypes(iris))"
   ]
  },
  {
   "cell_type": "code",
   "execution_count": 149,
   "metadata": {
    "ExecuteTime": {
     "end_time": "2019-02-06T03:32:46.531000+05:30",
     "start_time": "2019-02-05T22:02:46.516Z"
    }
   },
   "outputs": [
    {
     "name": "stdout",
     "output_type": "stream",
     "text": [
      "50×5 DataFrame\n",
      "│ Row │ SepalLength │ SepalWidth │ PetalLength │ PetalWidth │ Species │\n",
      "│     │ \u001b[90mFloat64⍰\u001b[39m    │ \u001b[90mFloat64⍰\u001b[39m   │ \u001b[90mFloat64⍰\u001b[39m    │ \u001b[90mFloat64⍰\u001b[39m   │ \u001b[90mString⍰\u001b[39m │\n",
      "├─────┼─────────────┼────────────┼─────────────┼────────────┼─────────┤\n",
      "│ 1   │ 5.1         │ 3.5        │ 1.4         │ 0.2        │ setosa  │\n",
      "│ 2   │ 4.9         │ 3.0        │ 1.4         │ 0.2        │ setosa  │\n",
      "│ 3   │ 4.7         │ 3.2        │ 1.3         │ 0.2        │ setosa  │\n",
      "│ 4   │ 4.6         │ 3.1        │ 1.5         │ 0.2        │ setosa  │\n",
      "│ 5   │ 5.0         │ 3.6        │ 1.4         │ 0.2        │ setosa  │\n",
      "│ 6   │ 5.4         │ 3.9        │ 1.7         │ 0.4        │ setosa  │\n",
      "│ 7   │ 4.6         │ 3.4        │ 1.4         │ 0.3        │ setosa  │\n",
      "⋮\n",
      "│ 43  │ 4.4         │ 3.2        │ 1.3         │ 0.2        │ setosa  │\n",
      "│ 44  │ 5.0         │ 3.5        │ 1.6         │ 0.6        │ setosa  │\n",
      "│ 45  │ 5.1         │ 3.8        │ 1.9         │ 0.4        │ setosa  │\n",
      "│ 46  │ 4.8         │ 3.0        │ 1.4         │ 0.3        │ setosa  │\n",
      "│ 47  │ 5.1         │ 3.8        │ 1.6         │ 0.2        │ setosa  │\n",
      "│ 48  │ 4.6         │ 3.2        │ 1.4         │ 0.2        │ setosa  │\n",
      "│ 49  │ 5.3         │ 3.7        │ 1.5         │ 0.2        │ setosa  │\n",
      "│ 50  │ 5.0         │ 3.3        │ 1.4         │ 0.2        │ setosa  │"
     ]
    }
   ],
   "source": [
    "show(iris[iris[:Species] .== \"setosa\", :])"
   ]
  },
  {
   "cell_type": "code",
   "execution_count": 150,
   "metadata": {
    "ExecuteTime": {
     "end_time": "2019-02-06T03:32:47.159000+05:30",
     "start_time": "2019-02-05T22:02:47.142Z"
    }
   },
   "outputs": [
    {
     "name": "stdout",
     "output_type": "stream",
     "text": [
      "3×2 DataFrame\n",
      "│ Row │ Species    │ x1    │\n",
      "│     │ \u001b[90mString⍰\u001b[39m    │ \u001b[90mInt64\u001b[39m │\n",
      "├─────┼────────────┼───────┤\n",
      "│ 1   │ setosa     │ 50    │\n",
      "│ 2   │ versicolor │ 50    │\n",
      "│ 3   │ virginica  │ 50    │"
     ]
    }
   ],
   "source": [
    "show(by(iris, :Species, df -> size(df, 1)))"
   ]
  },
  {
   "cell_type": "code",
   "execution_count": 151,
   "metadata": {
    "ExecuteTime": {
     "end_time": "2019-02-06T03:32:47.955000+05:30",
     "start_time": "2019-02-05T22:02:47.942Z"
    }
   },
   "outputs": [
    {
     "data": {
      "text/plain": [
       "1335.1000000000004"
      ]
     },
     "execution_count": 151,
     "metadata": {},
     "output_type": "execute_result"
    }
   ],
   "source": [
    "sum(iris[:SepalLength]) + sum(iris[:SepalWidth])"
   ]
  },
  {
   "cell_type": "code",
   "execution_count": 152,
   "metadata": {
    "ExecuteTime": {
     "end_time": "2019-02-06T03:32:48.410000+05:30",
     "start_time": "2019-02-05T22:02:48.390Z"
    }
   },
   "outputs": [
    {
     "name": "stdout",
     "output_type": "stream",
     "text": [
      "127×4 DataFrame\n",
      "│ Row │ Species   │ SepalLength │ SepalWidth │ x1    │\n",
      "│     │ \u001b[90mString⍰\u001b[39m   │ \u001b[90mFloat64⍰\u001b[39m    │ \u001b[90mFloat64⍰\u001b[39m   │ \u001b[90mInt64\u001b[39m │\n",
      "├─────┼───────────┼─────────────┼────────────┼───────┤\n",
      "│ 1   │ setosa    │ 5.1         │ 3.5        │ 2     │\n",
      "│ 2   │ setosa    │ 4.9         │ 3.0        │ 1     │\n",
      "│ 3   │ setosa    │ 4.7         │ 3.2        │ 2     │\n",
      "│ 4   │ setosa    │ 4.6         │ 3.1        │ 1     │\n",
      "│ 5   │ setosa    │ 5.0         │ 3.6        │ 1     │\n",
      "│ 6   │ setosa    │ 5.4         │ 3.9        │ 2     │\n",
      "│ 7   │ setosa    │ 4.6         │ 3.4        │ 1     │\n",
      "⋮\n",
      "│ 120 │ virginica │ 6.0         │ 3.0        │ 1     │\n",
      "│ 121 │ virginica │ 6.9         │ 3.1        │ 2     │\n",
      "│ 122 │ virginica │ 6.7         │ 3.1        │ 1     │\n",
      "│ 123 │ virginica │ 6.8         │ 3.2        │ 1     │\n",
      "│ 124 │ virginica │ 6.7         │ 3.0        │ 1     │\n",
      "│ 125 │ virginica │ 6.3         │ 2.5        │ 1     │\n",
      "│ 126 │ virginica │ 6.2         │ 3.4        │ 1     │\n",
      "│ 127 │ virginica │ 5.9         │ 3.0        │ 1     │"
     ]
    }
   ],
   "source": [
    "# pivot\n",
    "tabulated = by(\n",
    "    iris,\n",
    "    [:Species, :SepalLength, :SepalWidth],\n",
    "    df -> size(df, 1)\n",
    ")\n",
    "show(tabulated)"
   ]
  },
  {
   "cell_type": "code",
   "execution_count": 153,
   "metadata": {
    "ExecuteTime": {
     "end_time": "2019-02-06T03:32:49.096000+05:30",
     "start_time": "2019-02-05T22:02:49.078Z"
    }
   },
   "outputs": [
    {
     "name": "stdout",
     "output_type": "stream",
     "text": [
      "2,1,2,1,1,2,1,2,1,2,1,2,2,1,1,1,1,3,2,1,1,1,1,1,1,1,1,1,1,1,1,1,1,2,1,1,1,1,1,1,1,1,1,1,2,1,1,1,1,1,1,1,1,1,2,2,2,1,1,1,2,1,1,1,1,1,1,1,2,1,1,1,1,1,1,1,1,1,1,1,1,1,1,1,2,1,1,3,1,1,1,1,1,1,1,1,1,1,1,1,1,1,1,1,1,1,2,1,1,1,2,1,1,1,1,1,1,1,1,1,2,1,1,1,1,1,1,"
     ]
    }
   ],
   "source": [
    "gdf = groupby(iris,[:Species, :SepalLength, :SepalWidth])\n",
    "for idf in gdf\n",
    "    print(size(idf,1),\",\")\n",
    "end"
   ]
  },
  {
   "cell_type": "code",
   "execution_count": 156,
   "metadata": {
    "ExecuteTime": {
     "end_time": "2019-02-06T03:33:27.942000+05:30",
     "start_time": "2019-02-05T22:03:27.926Z"
    }
   },
   "outputs": [
    {
     "data": {
      "text/html": [
       "<table class=\"data-frame\"><thead><tr><th></th><th>SepalLength</th><th>SepalWidth</th><th>PetalLength</th><th>PetalWidth</th><th>randCol</th><th>Species</th></tr><tr><th></th><th>Float64⍰</th><th>Float64⍰</th><th>Float64⍰</th><th>Float64⍰</th><th>Float64</th><th>String⍰</th></tr></thead><tbody><p>6 rows × 6 columns</p><tr><th>1</th><td>5.1</td><td>3.5</td><td>1.4</td><td>0.2</td><td>0.40665</td><td>setosa</td></tr><tr><th>2</th><td>4.9</td><td>3.0</td><td>1.4</td><td>0.2</td><td>0.656743</td><td>setosa</td></tr><tr><th>3</th><td>4.7</td><td>3.2</td><td>1.3</td><td>0.2</td><td>0.620909</td><td>setosa</td></tr><tr><th>4</th><td>4.6</td><td>3.1</td><td>1.5</td><td>0.2</td><td>0.684613</td><td>setosa</td></tr><tr><th>5</th><td>5.0</td><td>3.6</td><td>1.4</td><td>0.2</td><td>0.192139</td><td>setosa</td></tr><tr><th>6</th><td>5.4</td><td>3.9</td><td>1.7</td><td>0.4</td><td>0.530261</td><td>setosa</td></tr></tbody></table>"
      ],
      "text/latex": [
       "\\begin{tabular}{r|cccccc}\n",
       "\t& SepalLength & SepalWidth & PetalLength & PetalWidth & randCol & Species\\\\\n",
       "\t\\hline\n",
       "\t& Float64⍰ & Float64⍰ & Float64⍰ & Float64⍰ & Float64 & String⍰\\\\\n",
       "\t\\hline\n",
       "\t1 & 5.1 & 3.5 & 1.4 & 0.2 & 0.40665 & setosa \\\\\n",
       "\t2 & 4.9 & 3.0 & 1.4 & 0.2 & 0.656743 & setosa \\\\\n",
       "\t3 & 4.7 & 3.2 & 1.3 & 0.2 & 0.620909 & setosa \\\\\n",
       "\t4 & 4.6 & 3.1 & 1.5 & 0.2 & 0.684613 & setosa \\\\\n",
       "\t5 & 5.0 & 3.6 & 1.4 & 0.2 & 0.192139 & setosa \\\\\n",
       "\t6 & 5.4 & 3.9 & 1.7 & 0.4 & 0.530261 & setosa \\\\\n",
       "\\end{tabular}\n"
      ],
      "text/plain": [
       "6×6 DataFrame. Omitted printing of 1 columns\n",
       "│ Row │ SepalLength │ SepalWidth │ PetalLength │ PetalWidth │ randCol  │\n",
       "│     │ \u001b[90mFloat64⍰\u001b[39m    │ \u001b[90mFloat64⍰\u001b[39m   │ \u001b[90mFloat64⍰\u001b[39m    │ \u001b[90mFloat64⍰\u001b[39m   │ \u001b[90mFloat64\u001b[39m  │\n",
       "├─────┼─────────────┼────────────┼─────────────┼────────────┼──────────┤\n",
       "│ 1   │ 5.1         │ 3.5        │ 1.4         │ 0.2        │ 0.40665  │\n",
       "│ 2   │ 4.9         │ 3.0        │ 1.4         │ 0.2        │ 0.656743 │\n",
       "│ 3   │ 4.7         │ 3.2        │ 1.3         │ 0.2        │ 0.620909 │\n",
       "│ 4   │ 4.6         │ 3.1        │ 1.5         │ 0.2        │ 0.684613 │\n",
       "│ 5   │ 5.0         │ 3.6        │ 1.4         │ 0.2        │ 0.192139 │\n",
       "│ 6   │ 5.4         │ 3.9        │ 1.7         │ 0.4        │ 0.530261 │"
      ]
     },
     "execution_count": 156,
     "metadata": {},
     "output_type": "execute_result"
    }
   ],
   "source": [
    "# insert random numbers at col 5:\n",
    "irisr = insertcols!(copy(iris), 5, :randCol => rand(nrow(iris)))\n",
    "first(irisr, 6)"
   ]
  },
  {
   "cell_type": "code",
   "execution_count": 157,
   "metadata": {
    "ExecuteTime": {
     "end_time": "2019-02-06T03:33:28.527000+05:30",
     "start_time": "2019-02-05T22:03:28.511Z"
    }
   },
   "outputs": [
    {
     "data": {
      "text/html": [
       "<table class=\"data-frame\"><thead><tr><th></th><th>SepalLength</th><th>SepalWidth</th><th>PetalLength</th><th>PetalWidth</th><th>Species</th></tr><tr><th></th><th>Float64⍰</th><th>Float64⍰</th><th>Float64⍰</th><th>Float64⍰</th><th>String⍰</th></tr></thead><tbody><p>6 rows × 5 columns</p><tr><th>1</th><td>5.1</td><td>3.5</td><td>1.4</td><td>0.2</td><td>setosa</td></tr><tr><th>2</th><td>4.9</td><td>3.0</td><td>1.4</td><td>0.2</td><td>setosa</td></tr><tr><th>3</th><td>4.7</td><td>3.2</td><td>1.3</td><td>0.2</td><td>setosa</td></tr><tr><th>4</th><td>4.6</td><td>3.1</td><td>1.5</td><td>0.2</td><td>setosa</td></tr><tr><th>5</th><td>5.0</td><td>3.6</td><td>1.4</td><td>0.2</td><td>setosa</td></tr><tr><th>6</th><td>5.4</td><td>3.9</td><td>1.7</td><td>0.4</td><td>setosa</td></tr></tbody></table>"
      ],
      "text/latex": [
       "\\begin{tabular}{r|ccccc}\n",
       "\t& SepalLength & SepalWidth & PetalLength & PetalWidth & Species\\\\\n",
       "\t\\hline\n",
       "\t& Float64⍰ & Float64⍰ & Float64⍰ & Float64⍰ & String⍰\\\\\n",
       "\t\\hline\n",
       "\t1 & 5.1 & 3.5 & 1.4 & 0.2 & setosa \\\\\n",
       "\t2 & 4.9 & 3.0 & 1.4 & 0.2 & setosa \\\\\n",
       "\t3 & 4.7 & 3.2 & 1.3 & 0.2 & setosa \\\\\n",
       "\t4 & 4.6 & 3.1 & 1.5 & 0.2 & setosa \\\\\n",
       "\t5 & 5.0 & 3.6 & 1.4 & 0.2 & setosa \\\\\n",
       "\t6 & 5.4 & 3.9 & 1.7 & 0.4 & setosa \\\\\n",
       "\\end{tabular}\n"
      ],
      "text/plain": [
       "6×5 DataFrame\n",
       "│ Row │ SepalLength │ SepalWidth │ PetalLength │ PetalWidth │ Species │\n",
       "│     │ \u001b[90mFloat64⍰\u001b[39m    │ \u001b[90mFloat64⍰\u001b[39m   │ \u001b[90mFloat64⍰\u001b[39m    │ \u001b[90mFloat64⍰\u001b[39m   │ \u001b[90mString⍰\u001b[39m │\n",
       "├─────┼─────────────┼────────────┼─────────────┼────────────┼─────────┤\n",
       "│ 1   │ 5.1         │ 3.5        │ 1.4         │ 0.2        │ setosa  │\n",
       "│ 2   │ 4.9         │ 3.0        │ 1.4         │ 0.2        │ setosa  │\n",
       "│ 3   │ 4.7         │ 3.2        │ 1.3         │ 0.2        │ setosa  │\n",
       "│ 4   │ 4.6         │ 3.1        │ 1.5         │ 0.2        │ setosa  │\n",
       "│ 5   │ 5.0         │ 3.6        │ 1.4         │ 0.2        │ setosa  │\n",
       "│ 6   │ 5.4         │ 3.9        │ 1.7         │ 0.4        │ setosa  │"
      ]
     },
     "execution_count": 157,
     "metadata": {},
     "output_type": "execute_result"
    }
   ],
   "source": [
    "deletecols!(irisr, :randCol)\n",
    "first(irisr, 6)"
   ]
  }
 ],
 "metadata": {
  "kernelspec": {
   "display_name": "Julia 1.0.3",
   "language": "julia",
   "name": "julia-1.0"
  },
  "language_info": {
   "file_extension": ".jl",
   "mimetype": "application/julia",
   "name": "julia",
   "version": "1.0.3"
  },
  "nbTranslate": {
   "displayLangs": [
    "*"
   ],
   "hotkey": "alt-t",
   "langInMainMenu": true,
   "sourceLang": "en",
   "targetLang": "fr",
   "useGoogleTranslate": true
  },
  "toc": {
   "base_numbering": 1,
   "nav_menu": {},
   "number_sections": true,
   "sideBar": true,
   "skip_h1_title": true,
   "title_cell": "Table of Contents",
   "title_sidebar": "Contents",
   "toc_cell": true,
   "toc_position": {},
   "toc_section_display": true,
   "toc_window_display": false
  }
 },
 "nbformat": 4,
 "nbformat_minor": 2
}
