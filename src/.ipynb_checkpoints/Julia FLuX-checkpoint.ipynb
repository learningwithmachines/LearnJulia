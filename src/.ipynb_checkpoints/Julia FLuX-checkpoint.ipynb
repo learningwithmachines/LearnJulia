{
 "cells": [
  {
   "cell_type": "code",
   "execution_count": 7,
   "metadata": {
    "ExecuteTime": {
     "end_time": "2019-02-06T22:59:39.884000+05:30",
     "start_time": "2019-02-06T17:29:39.812Z"
    }
   },
   "outputs": [],
   "source": [
    "using Flux\n",
    "using LinearAlgebra"
   ]
  },
  {
   "cell_type": "markdown",
   "metadata": {
    "ExecuteTime": {
     "end_time": "2019-02-06T19:30:15.641000+05:30",
     "start_time": "2019-02-06T14:00:15.532Z"
    }
   },
   "source": [
    "## Derivatives"
   ]
  },
  {
   "cell_type": "code",
   "execution_count": 3,
   "metadata": {
    "ExecuteTime": {
     "end_time": "2019-02-06T22:59:31.388000+05:30",
     "start_time": "2019-02-06T17:29:30.868Z"
    },
    "scrolled": false
   },
   "outputs": [
    {
     "data": {
      "text/plain": [
       "14.0 (tracked)"
      ]
     },
     "execution_count": 3,
     "metadata": {},
     "output_type": "execute_result"
    }
   ],
   "source": [
    "using Flux.Tracker\n",
    "using Flux.Tracker: update!\n",
    "f(x) = 3x^2 + 2x + 1\n",
    "\n",
    "df(x) = Tracker.gradient(f, x; nest = true)[1]\n",
    "\n",
    "df(2)"
   ]
  },
  {
   "cell_type": "code",
   "execution_count": 4,
   "metadata": {
    "ExecuteTime": {
     "end_time": "2019-02-06T22:59:32.099000+05:30",
     "start_time": "2019-02-06T17:29:31.854Z"
    }
   },
   "outputs": [
    {
     "data": {
      "text/plain": [
       "6.0 (tracked)"
      ]
     },
     "execution_count": 4,
     "metadata": {},
     "output_type": "execute_result"
    }
   ],
   "source": [
    "d2f(x) = Tracker.gradient(df, x; nest = true)[1]\n",
    "\n",
    "d2f(2)"
   ]
  },
  {
   "cell_type": "code",
   "execution_count": 5,
   "metadata": {
    "ExecuteTime": {
     "end_time": "2019-02-06T22:59:33.295000+05:30",
     "start_time": "2019-02-06T17:29:32.653Z"
    }
   },
   "outputs": [
    {
     "data": {
      "text/plain": [
       "(4.0 (tracked), 1.0 (tracked), 2.0 (tracked))"
      ]
     },
     "execution_count": 5,
     "metadata": {},
     "output_type": "execute_result"
    }
   ],
   "source": [
    "# When a function has many parameters, we can pass them all in explicitly\n",
    "f(W, b, x) = W*x + b\n",
    "Tracker.gradient(f, 2, 3, 4)"
   ]
  },
  {
   "cell_type": "code",
   "execution_count": 8,
   "metadata": {
    "ExecuteTime": {
     "end_time": "2019-02-06T22:59:42.192000+05:30",
     "start_time": "2019-02-06T17:29:41.782Z"
    }
   },
   "outputs": [
    {
     "data": {
      "text/plain": [
       "1.0"
      ]
     },
     "execution_count": 8,
     "metadata": {},
     "output_type": "execute_result"
    }
   ],
   "source": [
    "# But machine learning models can have hundreds of parameters!\n",
    "# Flux offers a nice way to handle this. \n",
    "# We can tell Flux to treat something as a parameter via param. \n",
    "# Then we can collect these together and tell gradient to \n",
    "# collect the gradients of all params at once.\n",
    "\n",
    "W = Flux.param(2) # 2.0 (tracked)\n",
    "b = Flux.param(3) # 3.0 (tracked)\n",
    "\n",
    "f(x) = W * x + b\n",
    "\n",
    "grads = Tracker.gradient(() -> f(4), Flux.params(W, b))\n",
    "\n",
    "grads[W] # 4.0\n",
    "grads[b] # 1.0"
   ]
  },
  {
   "cell_type": "markdown",
   "metadata": {},
   "source": [
    "There are a few things to notice here. Firstly, $W$ and $b$ now show up as tracked. Tracked things behave like normal numbers or arrays, but keep records of everything you do with them, allowing Flux to calculate their gradients. gradient takes a zero-argument function; no arguments are necessary because the `params` tell it what to differentiate."
   ]
  },
  {
   "cell_type": "markdown",
   "metadata": {},
   "source": [
    "### Simple Model: Linear Regression"
   ]
  },
  {
   "cell_type": "code",
   "execution_count": 12,
   "metadata": {
    "ExecuteTime": {
     "end_time": "2019-02-06T23:00:23.828000+05:30",
     "start_time": "2019-02-06T17:30:23.645Z"
    }
   },
   "outputs": [
    {
     "data": {
      "text/plain": [
       "2.3218756934721774"
      ]
     },
     "execution_count": 12,
     "metadata": {},
     "output_type": "execute_result"
    }
   ],
   "source": [
    "W = rand(2, 5)\n",
    "b = rand(2)\n",
    "\n",
    "predict(x) = W*x .+ b\n",
    "\n",
    "function loss(x, y)\n",
    "  ŷ = predict(x)\n",
    "  sum((y .- ŷ).^2)\n",
    "end\n",
    "\n",
    "x, y = rand(5), rand(2) # Dummy data\n",
    "loss(x, y) # ~ 3"
   ]
  },
  {
   "cell_type": "markdown",
   "metadata": {},
   "source": [
    "To improve the prediction we can take the gradients of W and b with respect to the loss and perform gradient descent. Let's tell Flux that W and b are parameters, just like we did above."
   ]
  },
  {
   "cell_type": "code",
   "execution_count": 13,
   "metadata": {
    "ExecuteTime": {
     "end_time": "2019-02-06T23:00:29.106000+05:30",
     "start_time": "2019-02-06T17:30:28.996Z"
    }
   },
   "outputs": [
    {
     "data": {
      "text/plain": [
       "Grads(...)\n"
      ]
     },
     "execution_count": 13,
     "metadata": {},
     "output_type": "execute_result"
    }
   ],
   "source": [
    "W = Flux.param(W)\n",
    "b = Flux.param(b)\n",
    "\n",
    "gs = Tracker.gradient(() -> loss(x, y), params(W, b))"
   ]
  },
  {
   "cell_type": "markdown",
   "metadata": {},
   "source": [
    "Now that we have gradients, we can pull them out and update`W` to train the model. The update!`(W, Δ)` function applies `W = W + Δ`, which we can use for gradient descent."
   ]
  },
  {
   "cell_type": "code",
   "execution_count": 14,
   "metadata": {
    "ExecuteTime": {
     "end_time": "2019-02-06T23:00:32.359000+05:30",
     "start_time": "2019-02-06T17:30:32.091Z"
    }
   },
   "outputs": [
    {
     "data": {
      "text/plain": [
       "0.9102351832714842 (tracked)"
      ]
     },
     "execution_count": 14,
     "metadata": {},
     "output_type": "execute_result"
    }
   ],
   "source": [
    "Δ = gs[W]\n",
    "\n",
    "# Update the parameter and reset the gradient\n",
    "update!(W, -0.1Δ)\n",
    "\n",
    "loss(x, y) # ~ 2.5"
   ]
  },
  {
   "cell_type": "markdown",
   "metadata": {},
   "source": [
    "The loss has decreased a little, meaning that our prediction x is closer to the target y. If we have some data we can already try training the model."
   ]
  },
  {
   "cell_type": "markdown",
   "metadata": {
    "ExecuteTime": {
     "end_time": "2019-02-06T20:27:02.792000+05:30",
     "start_time": "2019-02-06T14:57:02.781Z"
    }
   },
   "source": [
    "## Building Layers"
   ]
  },
  {
   "cell_type": "markdown",
   "metadata": {
    "ExecuteTime": {
     "end_time": "2019-02-06T20:27:08.658000+05:30",
     "start_time": "2019-02-06T14:57:08.645Z"
    }
   },
   "source": [
    "All deep learning in Flux, however complex, is a simple generalisation of this example. Of course, models can look very different – they might have millions of parameters or complex control flow. Let's see how Flux handles more complex models."
   ]
  },
  {
   "cell_type": "markdown",
   "metadata": {},
   "source": [
    "It's common to create more complex models than the linear regression above. For example, we might want to have two linear layers with a nonlinearity like sigmoid (σ) in between them. In the above style we could write this as:"
   ]
  },
  {
   "cell_type": "code",
   "execution_count": 15,
   "metadata": {
    "ExecuteTime": {
     "end_time": "2019-02-06T23:00:41.918000+05:30",
     "start_time": "2019-02-06T17:30:41.081Z"
    }
   },
   "outputs": [
    {
     "data": {
      "text/plain": [
       "Tracked 2-element Array{Float64,1}:\n",
       " 1.6236780888766966\n",
       " 1.9579924035147618"
      ]
     },
     "execution_count": 15,
     "metadata": {},
     "output_type": "execute_result"
    }
   ],
   "source": [
    "W1 = Flux.param(rand(3, 5))\n",
    "b1 = Flux.param(rand(3))\n",
    "layer1(x) = W1 * x .+ b1\n",
    "\n",
    "W2 = Flux.param(rand(2, 3))\n",
    "b2 = Flux.param(rand(2))\n",
    "layer2(x) = W2 * x .+ b2\n",
    "\n",
    "model(x) = layer2(σ.(layer1(x)))\n",
    "\n",
    "model(rand(5)) # => 2-element vector"
   ]
  },
  {
   "cell_type": "markdown",
   "metadata": {},
   "source": [
    "This works but is fairly unwieldy, with a lot of repetition – especially as we add more layers. One way to factor this out is to create a function that returns linear layers."
   ]
  },
  {
   "cell_type": "code",
   "execution_count": 16,
   "metadata": {
    "ExecuteTime": {
     "end_time": "2019-02-06T23:00:45.156000+05:30",
     "start_time": "2019-02-06T17:30:45.040Z"
    }
   },
   "outputs": [
    {
     "data": {
      "text/plain": [
       "Tracked 2-element Array{Float64,1}:\n",
       " 0.010491525781267663\n",
       " 1.083007498722921   "
      ]
     },
     "execution_count": 16,
     "metadata": {},
     "output_type": "execute_result"
    }
   ],
   "source": [
    "function linear(in, out)\n",
    "  W = Flux.param(randn(out, in))\n",
    "  b = Flux.param(randn(out))\n",
    "  x -> W * x .+ b\n",
    "end\n",
    "\n",
    "linear1 = linear(5, 3) # we can access linear1.W etc\n",
    "linear2 = linear(3, 2)\n",
    "\n",
    "model(x) = linear2(σ.(linear1(x)))\n",
    "\n",
    "model(rand(5)) # => 2-element vector"
   ]
  },
  {
   "cell_type": "markdown",
   "metadata": {},
   "source": [
    "Another (equivalent) way is to create a struct that explicitly represents the affine layer."
   ]
  },
  {
   "cell_type": "code",
   "execution_count": 17,
   "metadata": {
    "ExecuteTime": {
     "end_time": "2019-02-06T23:00:47.452000+05:30",
     "start_time": "2019-02-06T17:30:47.373Z"
    }
   },
   "outputs": [
    {
     "data": {
      "text/plain": [
       "Tracked 5-element Array{Float64,1}:\n",
       " -0.9095923513970214 \n",
       " -1.8998262690006942 \n",
       " -0.4327601552354983 \n",
       "  2.835606248909998  \n",
       "  0.39492644154277456"
      ]
     },
     "execution_count": 17,
     "metadata": {},
     "output_type": "execute_result"
    }
   ],
   "source": [
    "struct Affine\n",
    "  W\n",
    "  b\n",
    "end\n",
    "\n",
    "Affine(in::Integer, out::Integer) =\n",
    "  Affine(Flux.param(randn(out, in)), Flux.param(randn(out)))\n",
    "\n",
    "# Overload call, so the object can be used as a function\n",
    "(m0::Affine)(x) = m0.W * x .+ m0.b\n",
    "\n",
    "a = Affine(10, 5)\n",
    "\n",
    "a(rand(10)) # => 5-element vector"
   ]
  },
  {
   "cell_type": "markdown",
   "metadata": {},
   "source": [
    "##  Stacking It Up"
   ]
  },
  {
   "cell_type": "code",
   "execution_count": 18,
   "metadata": {
    "ExecuteTime": {
     "end_time": "2019-02-06T23:00:57.945000+05:30",
     "start_time": "2019-02-06T17:30:56.312Z"
    }
   },
   "outputs": [
    {
     "data": {
      "text/plain": [
       "Tracked 2-element Array{Float32,1}:\n",
       " 0.44850394f0\n",
       " 0.551496f0  "
      ]
     },
     "execution_count": 18,
     "metadata": {},
     "output_type": "execute_result"
    }
   ],
   "source": [
    "layers = [Dense(10, 5, σ), Dense(5, 2), softmax]\n",
    "\n",
    "model(x) = foldl((x, m0) -> m0(x), layers, init = x)\n",
    "\n",
    "model(rand(10)) # => 2-element vector"
   ]
  },
  {
   "cell_type": "code",
   "execution_count": 19,
   "metadata": {
    "ExecuteTime": {
     "end_time": "2019-02-06T23:01:01.636000+05:30",
     "start_time": "2019-02-06T17:31:01.411Z"
    }
   },
   "outputs": [
    {
     "data": {
      "text/plain": [
       "Tracked 2-element Array{Float32,1}:\n",
       " 0.84381706f0\n",
       " 0.15618293f0"
      ]
     },
     "execution_count": 19,
     "metadata": {},
     "output_type": "execute_result"
    }
   ],
   "source": [
    "model2 = Chain(\n",
    "  Dense(10, 5, σ),\n",
    "  Dense(5, 2),\n",
    "  softmax)\n",
    "\n",
    "model2(rand(10)) # => 2-element vector"
   ]
  },
  {
   "cell_type": "markdown",
   "metadata": {},
   "source": [
    "A nice property of this approach is that because \"models\" are just functions (possibly with trainable parameters), you can also see this as simple function composition."
   ]
  },
  {
   "cell_type": "code",
   "execution_count": 20,
   "metadata": {
    "ExecuteTime": {
     "end_time": "2019-02-06T23:01:08.393000+05:30",
     "start_time": "2019-02-06T17:31:08.367Z"
    }
   },
   "outputs": [
    {
     "data": {
      "text/plain": [
       "Tracked 2-element Array{Float32,1}:\n",
       " 0.09507513f0\n",
       " 0.13030602f0"
      ]
     },
     "execution_count": 20,
     "metadata": {},
     "output_type": "execute_result"
    }
   ],
   "source": [
    "m3 = Dense(5, 2) ∘ Dense(10, 5, σ)\n",
    "\n",
    "m3(rand(10))"
   ]
  },
  {
   "cell_type": "markdown",
   "metadata": {},
   "source": [
    "Likewise, Chain will happily work with any Julia function."
   ]
  },
  {
   "cell_type": "code",
   "execution_count": 21,
   "metadata": {
    "ExecuteTime": {
     "end_time": "2019-02-06T23:01:10.787000+05:30",
     "start_time": "2019-02-06T17:31:10.549Z"
    }
   },
   "outputs": [
    {
     "data": {
      "text/plain": [
       "26"
      ]
     },
     "execution_count": 21,
     "metadata": {},
     "output_type": "execute_result"
    }
   ],
   "source": [
    "m4 = Chain(x -> x^2, x -> x+1)\n",
    "\n",
    "m4(5) # => 26"
   ]
  },
  {
   "cell_type": "markdown",
   "metadata": {},
   "source": [
    "## Recurrence\n",
    "\n",
    "In the simple feedforward case, our model m is a simple function from various inputs xᵢ to predictions yᵢ. (For example, each x might be an MNIST digit and each y a digit label.) Each prediction is completely independent of any others, and using the same x will always produce the same y.\n",
    "\n",
    "```julia\n",
    "y₁ = f(x₁)\n",
    "y₂ = f(x₂)\n",
    "y₃ = f(x₃)\n",
    "# ...\n",
    "```\n",
    "Recurrent networks introduce a hidden state that gets carried over each time we run the model. The model now takes the old h as an input, and produces a new h as output, each time we run it.\n",
    "\n",
    "```julia\n",
    "h = # ... initial state ...\n",
    "h, y₁ = f(h, x₁)\n",
    "h, y₂ = f(h, x₂)\n",
    "h, y₃ = f(h, x₃)\n",
    "# ...\n",
    "\n",
    "```\n",
    "\n",
    "Information stored in h is preserved for the next prediction, allowing it to function as a kind of memory. This also means that the prediction made for a given x depends on all the inputs previously fed into the model.\n",
    "\n",
    "(This might be important if, for example, each x represents one word of a sentence; the model's interpretation of the word \"bank\" should change if the previous input was \"river\" rather than \"investment\".)\n",
    "\n",
    "Flux's RNN support closely follows this mathematical perspective. The most basic RNN is as close as possible to a standard Dense layer, and the output is also the hidden state."
   ]
  },
  {
   "cell_type": "code",
   "execution_count": 22,
   "metadata": {
    "ExecuteTime": {
     "end_time": "2019-02-06T23:01:21.542000+05:30",
     "start_time": "2019-02-06T17:31:20.938Z"
    }
   },
   "outputs": [
    {
     "data": {
      "text/plain": [
       "([-0.931797, -0.999921, -0.998847, -0.536294, 0.413329], [-0.931797, -0.999921, -0.998847, -0.536294, 0.413329])"
      ]
     },
     "execution_count": 22,
     "metadata": {},
     "output_type": "execute_result"
    }
   ],
   "source": [
    "Wxh = randn(5, 10)\n",
    "Whh = randn(5, 5)\n",
    "b   = randn(5)\n",
    "\n",
    "function rnn(h, x)\n",
    "  h = tanh.(Wxh * x .+ Whh * h .+ b)\n",
    "  return h, h\n",
    "end\n",
    "\n",
    "x = rand(10) # dummy data\n",
    "h = rand(5)  # initial hidden state\n",
    "\n",
    "h, y = rnn(h, x)"
   ]
  },
  {
   "cell_type": "code",
   "execution_count": 23,
   "metadata": {
    "ExecuteTime": {
     "end_time": "2019-02-06T23:01:28.083000+05:30",
     "start_time": "2019-02-06T17:31:28.001Z"
    }
   },
   "outputs": [
    {
     "data": {
      "text/plain": [
       "([0.673676, -0.884568, -0.999746, 0.977051, 0.997803], [0.673676, -0.884568, -0.999746, 0.977051, 0.997803])"
      ]
     },
     "execution_count": 23,
     "metadata": {},
     "output_type": "execute_result"
    }
   ],
   "source": [
    "h, y = rnn(h, x)"
   ]
  },
  {
   "cell_type": "markdown",
   "metadata": {},
   "source": [
    "If you run the last line a few times, you'll notice the output y changing slightly even though the input x is the same.\n",
    "\n",
    "We sometimes refer to functions like rnn above, which explicitly manage state, as recurrent cells. There are various recurrent cells available, which are documented in the layer reference. The hand-written example above can be replaced "
   ]
  },
  {
   "cell_type": "code",
   "execution_count": 24,
   "metadata": {
    "ExecuteTime": {
     "end_time": "2019-02-06T23:01:29.913000+05:30",
     "start_time": "2019-02-06T17:31:29.273Z"
    }
   },
   "outputs": [
    {
     "data": {
      "text/plain": [
       "([0.288938, 0.244523, 0.497136, 0.474201, -0.580634] (tracked), [0.288938, 0.244523, 0.497136, 0.474201, -0.580634] (tracked))"
      ]
     },
     "execution_count": 24,
     "metadata": {},
     "output_type": "execute_result"
    }
   ],
   "source": [
    "rnn2 = Flux.RNNCell(10, 5)\n",
    "\n",
    "x = rand(10) # dummy data\n",
    "h = rand(5)  # initial hidden state\n",
    "\n",
    "h, y = rnn2(h, x)"
   ]
  },
  {
   "cell_type": "markdown",
   "metadata": {},
   "source": [
    "### Stateful Models\n",
    "\n",
    "For the most part, we don't want to manage hidden states ourselves, but to treat our models as being stateful. Flux provides the `Recur` wrapper to do this."
   ]
  },
  {
   "cell_type": "code",
   "execution_count": 25,
   "metadata": {
    "ExecuteTime": {
     "end_time": "2019-02-06T23:01:30.418000+05:30",
     "start_time": "2019-02-06T17:31:30.125Z"
    }
   },
   "outputs": [
    {
     "data": {
      "text/plain": [
       "5-element Array{Float64,1}:\n",
       " -0.26588289769124757\n",
       " -0.9985761998819196 \n",
       " -0.999763271261897  \n",
       "  0.9214552738190231 \n",
       " -0.9453419069771922 "
      ]
     },
     "execution_count": 25,
     "metadata": {},
     "output_type": "execute_result"
    }
   ],
   "source": [
    "x = rand(10)\n",
    "h = rand(5)\n",
    "\n",
    "m5 = Flux.Recur(rnn, h)\n",
    "\n",
    "y = m5(x)"
   ]
  },
  {
   "cell_type": "markdown",
   "metadata": {},
   "source": [
    "The `Recur` wrapper stores the state between runs in the `m.state` field.\n",
    "\n",
    "If you use the `RNN(10, 5)` constructor – as opposed to `RNNCell` – you'll see that it's simply a wrapped cell."
   ]
  },
  {
   "cell_type": "code",
   "execution_count": 26,
   "metadata": {
    "ExecuteTime": {
     "end_time": "2019-02-06T23:01:32.989000+05:30",
     "start_time": "2019-02-06T17:31:32.643Z"
    }
   },
   "outputs": [
    {
     "data": {
      "text/plain": [
       "Recur(RNNCell(10, 5, tanh))"
      ]
     },
     "execution_count": 26,
     "metadata": {},
     "output_type": "execute_result"
    }
   ],
   "source": [
    "RNN(10, 5)"
   ]
  },
  {
   "cell_type": "markdown",
   "metadata": {},
   "source": [
    "### Sequences"
   ]
  },
  {
   "cell_type": "code",
   "execution_count": 27,
   "metadata": {
    "ExecuteTime": {
     "end_time": "2019-02-06T23:01:34.707000+05:30",
     "start_time": "2019-02-06T17:31:34.093Z"
    }
   },
   "outputs": [
    {
     "data": {
      "text/plain": [
       "10-element Array{Array{Float64,1},1}:\n",
       " [0.82758, 0.60112, 0.839347, 0.544571, 0.382159, 0.517409, 0.437473, 0.549324, 0.676489, 0.347741]     \n",
       " [0.00624216, 0.203856, 0.784505, 0.159651, 0.885327, 0.764913, 0.6464, 0.659907, 0.431104, 0.2381]     \n",
       " [0.882854, 0.632739, 0.933107, 0.978297, 0.42998, 0.713436, 0.970263, 0.915611, 0.874525, 0.584662]    \n",
       " [0.882197, 0.847739, 0.355476, 0.0452881, 0.705682, 0.940151, 0.480843, 0.645641, 0.461296, 0.197825]  \n",
       " [0.741603, 0.51821, 0.581209, 0.510604, 0.0246661, 0.00221688, 0.795042, 0.325212, 0.848764, 0.168828] \n",
       " [0.328764, 0.00345431, 0.134532, 0.478144, 0.233137, 0.923483, 0.0603152, 0.335859, 0.697089, 0.492162]\n",
       " [0.00254856, 0.814529, 0.319076, 0.831608, 0.706932, 0.70101, 0.642719, 0.785542, 0.609726, 0.298639]  \n",
       " [0.212847, 0.817364, 0.902221, 0.882078, 0.265337, 0.704531, 0.598979, 0.0637907, 0.776833, 0.0565624] \n",
       " [0.425822, 0.349737, 0.0110851, 0.770364, 0.235798, 0.544286, 0.667792, 0.999929, 0.30458, 0.373674]   \n",
       " [0.611586, 0.96214, 0.723963, 0.198443, 0.580702, 0.287204, 0.702409, 0.916934, 0.623936, 0.798103]    "
      ]
     },
     "execution_count": 27,
     "metadata": {},
     "output_type": "execute_result"
    }
   ],
   "source": [
    "seq = [rand(10) for i = 1:10]"
   ]
  },
  {
   "cell_type": "markdown",
   "metadata": {},
   "source": [
    "Often we want to work with sequences of inputs, rather than individual `x`s.\n",
    "With `Recur`, applying our model to each element of a sequence is trivial:"
   ]
  },
  {
   "cell_type": "code",
   "execution_count": 28,
   "metadata": {
    "ExecuteTime": {
     "end_time": "2019-02-06T23:01:35.038000+05:30",
     "start_time": "2019-02-06T17:31:34.923Z"
    }
   },
   "outputs": [
    {
     "data": {
      "text/plain": [
       "10-element Array{Array{Float64,1},1}:\n",
       " [-0.898591, -0.999446, -0.167576, 0.967352, 0.976738] \n",
       " [-0.496868, -0.856808, -0.999971, 0.423929, -0.588678]\n",
       " [-0.503424, -0.999645, -0.93698, 0.991589, 0.989296]  \n",
       " [-0.144897, 0.0209762, -0.999883, 0.866567, -0.617855]\n",
       " [-0.970155, -0.999708, 0.589899, -0.0827376, 0.947277]\n",
       " [0.926561, 0.246655, -0.999835, 0.711913, 0.983907]   \n",
       " [-0.443298, -0.999854, -0.999947, 0.994821, -0.99836] \n",
       " [-0.985426, -0.999984, -0.76299, 0.167503, 0.43138]   \n",
       " [0.795373, -0.440269, -0.992034, 0.99105, 0.687745]   \n",
       " [-0.599715, -0.990304, -0.989732, 0.999069, -0.417438]"
      ]
     },
     "execution_count": 28,
     "metadata": {},
     "output_type": "execute_result"
    }
   ],
   "source": [
    "m5.(seq) # returns a list of 5-element vectors"
   ]
  },
  {
   "cell_type": "markdown",
   "metadata": {},
   "source": [
    "This works even when we've chain recurrent layers into a larger model."
   ]
  },
  {
   "cell_type": "code",
   "execution_count": 29,
   "metadata": {
    "ExecuteTime": {
     "end_time": "2019-02-06T23:01:39.086000+05:30",
     "start_time": "2019-02-06T17:31:37.270Z"
    }
   },
   "outputs": [
    {
     "data": {
      "text/plain": [
       "10-element Array{TrackedArray{…,Array{Float32,1}},1}:\n",
       " Float32[-0.0465456, -0.128611, 0.0125074, 0.142744, 0.258033] (tracked)  \n",
       " Float32[-0.123183, -0.221218, -0.00635292, 0.0972207, 0.152083] (tracked)\n",
       " Float32[-0.0854504, -0.299718, 0.0274419, 0.045864, 0.167565] (tracked)  \n",
       " Float32[-0.0416532, -0.312189, 0.0345967, 0.023885, 0.123021] (tracked)  \n",
       " Float32[0.0135911, -0.279976, 0.0586437, -0.0383716, 0.191619] (tracked) \n",
       " Float32[0.0485749, -0.259234, 0.0745672, -0.0130925, 0.184165] (tracked) \n",
       " Float32[-0.0229258, -0.292206, 0.121691, -0.0167386, 0.127246] (tracked) \n",
       " Float32[-0.0454838, -0.285672, 0.1199, -0.0514986, 0.0804147] (tracked)  \n",
       " Float32[-0.0482523, -0.303273, 0.155685, -0.0471031, 0.102031] (tracked) \n",
       " Float32[-0.0322702, -0.297714, 0.142644, -0.0559776, 0.0797379] (tracked)"
      ]
     },
     "execution_count": 29,
     "metadata": {},
     "output_type": "execute_result"
    }
   ],
   "source": [
    "m51 = Chain(LSTM(10, 15), Dense(15, 5))\n",
    "m51.(seq)"
   ]
  },
  {
   "cell_type": "markdown",
   "metadata": {},
   "source": [
    "## Truncating Gradients\n",
    "\n",
    "By default, calculating the gradients in a recurrent layer involves its entire history. For example, if we call the model on 100 inputs, we'll have to calculate the gradient for those 100 calls. If we then calculate another 10 inputs we have to calculate 110 gradients – this accumulates and quickly becomes expensive.\n",
    "\n",
    "To avoid this we can truncate the gradient calculation, forgetting the history."
   ]
  },
  {
   "cell_type": "code",
   "execution_count": 30,
   "metadata": {
    "ExecuteTime": {
     "end_time": "2019-02-06T23:01:48.053000+05:30",
     "start_time": "2019-02-06T17:31:47.921Z"
    }
   },
   "outputs": [],
   "source": [
    "using Flux: truncate!\n",
    "truncate!(m51)"
   ]
  },
  {
   "cell_type": "markdown",
   "metadata": {},
   "source": [
    "Calling `truncate!` wipes the slate clean, so we can call the model with more inputs without building up an expensive gradient computation.\n",
    "\n",
    "`truncate!` makes sense when you are working with multiple chunks of a large sequence, but we may also want to work with a set of independent sequences. In this case the hidden state should be completely reset to its original value, throwing away any accumulated information. `reset!` does this for you."
   ]
  },
  {
   "cell_type": "markdown",
   "metadata": {
    "ExecuteTime": {
     "end_time": "2019-02-06T20:50:00.935000+05:30",
     "start_time": "2019-02-06T15:20:00.924Z"
    }
   },
   "source": [
    "## Regularisation\n",
    "\n",
    "Applying regularisation to model parameters is straightforward. We just need to apply an appropriate regulariser, such as `norm`, to each model parameter and add the result to the overall loss.\n",
    "\n",
    "For example, say we have a simple regression."
   ]
  },
  {
   "cell_type": "code",
   "execution_count": 38,
   "metadata": {
    "ExecuteTime": {
     "end_time": "2019-02-06T23:03:35.337000+05:30",
     "start_time": "2019-02-06T17:33:35.295Z"
    }
   },
   "outputs": [
    {
     "data": {
      "text/plain": [
       "loss (generic function with 1 method)"
      ]
     },
     "execution_count": 38,
     "metadata": {},
     "output_type": "execute_result"
    }
   ],
   "source": [
    "using Flux: crossentropy\n",
    "m6 = Dense(10, 5)\n",
    "loss(x, y) = crossentropy(softmax(m6(x)), y)"
   ]
  },
  {
   "cell_type": "markdown",
   "metadata": {},
   "source": [
    "We can regularise this by taking the (L2) norm of the parameters, `m.W` and `m.b`."
   ]
  },
  {
   "cell_type": "code",
   "execution_count": 39,
   "metadata": {
    "ExecuteTime": {
     "end_time": "2019-02-06T23:03:37.607000+05:30",
     "start_time": "2019-02-06T17:33:37.561Z"
    }
   },
   "outputs": [
    {
     "data": {
      "text/plain": [
       "reg_loss (generic function with 1 method)"
      ]
     },
     "execution_count": 39,
     "metadata": {},
     "output_type": "execute_result"
    }
   ],
   "source": [
    "penalty() = norm(m6.W) + norm(m6.b)\n",
    "reg_loss(x, y) = los(x, y) + penalty()"
   ]
  },
  {
   "cell_type": "markdown",
   "metadata": {},
   "source": [
    "When working with layers, Flux provides the `params` function to grab all parameters at once. We can easily penalise everything with `sum(norm, params)`"
   ]
  },
  {
   "cell_type": "code",
   "execution_count": 53,
   "metadata": {
    "ExecuteTime": {
     "end_time": "2019-02-06T23:10:10.138000+05:30",
     "start_time": "2019-02-06T17:40:10.125Z"
    }
   },
   "outputs": [
    {
     "data": {
      "text/plain": [
       "Params([Float32[0.44693 0.610506 … 0.344507 0.33975; 0.317171 0.213123 … 0.237983 0.288213; … ; 0.218211 0.405583 … -0.205823 0.0442562; -0.101237 -0.538947 … -0.587202 -0.0817828] (tracked), Float32[0.0, 0.0, 0.0, 0.0, 0.0] (tracked)])"
      ]
     },
     "execution_count": 53,
     "metadata": {},
     "output_type": "execute_result"
    }
   ],
   "source": [
    "Flux.params(m6)"
   ]
  },
  {
   "cell_type": "code",
   "execution_count": 42,
   "metadata": {
    "ExecuteTime": {
     "end_time": "2019-02-06T23:03:55.889000+05:30",
     "start_time": "2019-02-06T17:33:55.877Z"
    }
   },
   "outputs": [
    {
     "data": {
      "text/plain": [
       "2.395419828694061 (tracked)"
      ]
     },
     "execution_count": 42,
     "metadata": {},
     "output_type": "execute_result"
    }
   ],
   "source": [
    "sum(norm, Flux.params(m6))"
   ]
  },
  {
   "cell_type": "code",
   "execution_count": null,
   "metadata": {
    "ExecuteTime": {
     "end_time": "2019-02-06T22:54:53.125000+05:30",
     "start_time": "2019-02-06T17:24:52.615Z"
    }
   },
   "outputs": [],
   "source": [
    "# Here's a larger example with a multi-layer perceptron.\n",
    "\n",
    "m7 = Chain(\n",
    "  Dense(28^2, 128, relu),\n",
    "  Dense(128, 32, relu),\n",
    "  Dense(32, 10), softmax)\n",
    "\n",
    "loss(x, y) = crossentropy(m7(x), y) + sum(norm, Flux.params(m7))\n",
    "\n",
    "loss(rand(28^2), rand(10))"
   ]
  },
  {
   "cell_type": "code",
   "execution_count": null,
   "metadata": {
    "ExecuteTime": {
     "end_time": "2019-02-06T22:54:56.424000+05:30",
     "start_time": "2019-02-06T17:24:56.105Z"
    }
   },
   "outputs": [],
   "source": [
    "#One can also easily add per-layer regularisation via the activations function:\n",
    "c = Chain(Dense(10,5,σ),Dense(5,2),softmax)"
   ]
  },
  {
   "cell_type": "code",
   "execution_count": null,
   "metadata": {
    "ExecuteTime": {
     "end_time": "2019-02-06T22:55:37.742000+05:30",
     "start_time": "2019-02-06T17:25:37.725Z"
    }
   },
   "outputs": [],
   "source": [
    "c_reg = activations(c, rand(10))"
   ]
  },
  {
   "cell_type": "code",
   "execution_count": null,
   "metadata": {},
   "outputs": [],
   "source": []
  }
 ],
 "metadata": {
  "gist": {
   "data": {
    "description": "Flux 0.7.dev",
    "public": true
   },
   "id": ""
  },
  "kernelspec": {
   "display_name": "Julia 1.0.3",
   "language": "julia",
   "name": "julia-1.0"
  },
  "language_info": {
   "file_extension": ".jl",
   "mimetype": "application/julia",
   "name": "julia",
   "version": "1.0.3"
  },
  "nbTranslate": {
   "displayLangs": [
    "*"
   ],
   "hotkey": "alt-t",
   "langInMainMenu": true,
   "sourceLang": "en",
   "targetLang": "fr",
   "useGoogleTranslate": true
  }
 },
 "nbformat": 4,
 "nbformat_minor": 2
}
