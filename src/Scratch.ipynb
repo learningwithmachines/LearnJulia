{
 "cells": [
  {
   "cell_type": "code",
   "execution_count": null,
   "metadata": {
    "ExecuteTime": {
     "end_time": "2019-02-14T06:55:17.829000+05:30",
     "start_time": "2019-02-14T01:24:41.042Z"
    }
   },
   "outputs": [],
   "source": [
    "using Revise"
   ]
  },
  {
   "cell_type": "code",
   "execution_count": null,
   "metadata": {
    "ExecuteTime": {
     "end_time": "2019-02-11T03:05:16.502000+05:30",
     "start_time": "2019-02-10T21:35:03.544Z"
    }
   },
   "outputs": [],
   "source": [
    "function hasduplicates(s::T where {T <: Union{String, Array}})::Bool \n",
    "    d = Dict{eltype(s), Int}()\n",
    "    for v in s\n",
    "        d[v] = get!(d, v, 0) + 1\n",
    "    end\n",
    "    return maximum(values(d)) > 1\n",
    "end\n",
    "\n",
    "println(hasduplicates(\"sssa\"))\n",
    "println(hasduplicates([1,2,33,3,3,44]))"
   ]
  },
  {
   "cell_type": "code",
   "execution_count": null,
   "metadata": {
    "ExecuteTime": {
     "end_time": "2019-02-11T03:05:16.730000+05:30",
     "start_time": "2019-02-10T21:35:03.949Z"
    }
   },
   "outputs": [],
   "source": [
    "function bdayparadox(numstudents::Int)::Float64\n",
    "    return 1 - ((365 -1)/365)^(0.5numstudents*(numstudents-1))\n",
    "end\n",
    "\n",
    "println(bdayparadox(23))"
   ]
  },
  {
   "cell_type": "code",
   "execution_count": null,
   "metadata": {
    "ExecuteTime": {
     "end_time": "2019-02-11T03:05:17.980000+05:30",
     "start_time": "2019-02-10T21:35:04.352Z"
    }
   },
   "outputs": [],
   "source": [
    "using Distributed\n",
    "@everywhere using SharedArrays\n",
    "\n",
    "println(\"Threads: \",Threads.nthreads())\n",
    "println(\"Procs: $(nprocs()), Workers: $(nworkers())\")"
   ]
  },
  {
   "cell_type": "code",
   "execution_count": null,
   "metadata": {
    "ExecuteTime": {
     "end_time": "2019-02-11T03:05:20.023000+05:30",
     "start_time": "2019-02-10T21:35:04.777Z"
    }
   },
   "outputs": [],
   "source": [
    "@everywhere function bdayrand(numstudents, numtrials)\n",
    "    seq = @distributed (+) for i = 1:numtrials\n",
    "       length(Set(rand(1:365, 23))) < numstudents ? 1 : 0\n",
    "    end\n",
    "    return seq/numtrials\n",
    "end\n",
    "\n",
    "@time bdayrand(23, 1000000)"
   ]
  },
  {
   "cell_type": "code",
   "execution_count": null,
   "metadata": {
    "ExecuteTime": {
     "end_time": "2019-02-10T00:27:16.272000+05:30",
     "start_time": "2019-02-09T18:57:16.040Z"
    },
    "deletable": false,
    "editable": false,
    "run_control": {
     "frozen": true
    }
   },
   "outputs": [],
   "source": [
    "@code_native bdayrand(23, 1000)"
   ]
  },
  {
   "cell_type": "code",
   "execution_count": null,
   "metadata": {
    "ExecuteTime": {
     "end_time": "2019-02-10T00:25:44.409000+05:30",
     "start_time": "2019-02-09T18:55:43.735Z"
    },
    "deletable": false,
    "editable": false,
    "run_control": {
     "frozen": true
    }
   },
   "outputs": [],
   "source": [
    " function showtypetree(T, level=0)\n",
    "     println(\"\\t\" ^ level, T)\n",
    "     for t in subtypes(T)\n",
    "         if t != Any\n",
    "             showtypetree(t, level+1)\n",
    "         end\n",
    "    end\n",
    " end\n",
    " \n",
    " showtypetree(Number)"
   ]
  },
  {
   "cell_type": "code",
   "execution_count": null,
   "metadata": {
    "ExecuteTime": {
     "end_time": "2019-02-11T03:05:20.386000+05:30",
     "start_time": "2019-02-10T21:35:07.958Z"
    }
   },
   "outputs": [],
   "source": [
    "abstract type MyType <: Real end\n",
    "supertype(MyType)\n",
    "\n",
    "mutable struct myint <: MyType\n",
    "       val::Int16\n",
    "end\n",
    "\n",
    "foo = myint(23)\n",
    "foo.val"
   ]
  },
  {
   "cell_type": "code",
   "execution_count": null,
   "metadata": {
    "ExecuteTime": {
     "end_time": "2019-02-11T03:05:20.521000+05:30",
     "start_time": "2019-02-10T21:35:08.700Z"
    }
   },
   "outputs": [],
   "source": [
    "@everywhere struct randfield\n",
    "    hasdupes::AbstractFloat\n",
    "    function randfield(rrange::UnitRange{Int}, size::Int, samplesize::Int)::AbstractFloat\n",
    "        u::Int = length(Set(rand(rrange, size)))\n",
    "        x::AbstractFloat = size > u ? 1.0/samplesize : 0.0\n",
    "        new(x)\n",
    "    end\n",
    "end\n",
    "\n",
    "# test\n",
    "randvars = randfield(1:365,23, 1000)\n",
    "randvars.hasdupes"
   ]
  },
  {
   "cell_type": "code",
   "execution_count": null,
   "metadata": {
    "ExecuteTime": {
     "end_time": "2019-02-11T03:05:21.226000+05:30",
     "start_time": "2019-02-10T21:35:10.613Z"
    }
   },
   "outputs": [],
   "source": [
    "@everywhere function cbdayrand(numstudents::Int, numtrials::Int)::Float64\n",
    "    seq::Float64 = 0.0\n",
    "    seq = @distributed (+) for i = 1:numtrials\n",
    "       randfield(1:365, numstudents, numtrials).hasdupes\n",
    "    end\n",
    "    return seq\n",
    "end\n",
    "@time cbdayrand(23, 1000000)"
   ]
  },
  {
   "cell_type": "markdown",
   "metadata": {
    "deletable": false,
    "editable": false,
    "run_control": {
     "frozen": true
    }
   },
   "source": [
    "### Interpretaion 1:\n",
    "* Words have letters removed in a strict order; either removing the starting and ending letters or removing middle letters with the starting letters, and the resulting children are then recursively checked for validity."
   ]
  },
  {
   "cell_type": "code",
   "execution_count": null,
   "metadata": {
    "deletable": false,
    "editable": false,
    "run_control": {
     "frozen": true
    }
   },
   "outputs": [],
   "source": [
    "@everywhere struct wordmemo\n",
    "    words::Vector{String}\n",
    "    @inline function wordmemo()\n",
    "        words = [\"a\", \"i\", \"\"]\n",
    "        append!(words, readwords())\n",
    "        new(words)\n",
    "    end\n",
    "end\n",
    "\n",
    "@everywhere function Base.:in(str::String, wm::wordmemo)::Bool\n",
    "    return str in wm.words::Vector{String}\n",
    "end\n",
    "\n",
    "@everywhere knownreductions1 = Dict{String, Vector{String}}()\n",
    "\n",
    "@everywhere @inline splitmid(str::String)::String = join(split(str, str[sum(divrem(length(str), 2))]))\n",
    "\n",
    "@everywhere function trimstring(str::String)::Vector{String}\n",
    "    get!(knownreductions, str) do\n",
    "        if length(str) == 1 || isempty(str)\n",
    "            return [str]\n",
    "        elseif length(str)%2 == 0\n",
    "            seq = [str[2:end], str[1:end-1]]\n",
    "        else\n",
    "            seq = [str[2:end], splitmid(str), str[1:end-1]]\n",
    "        end\n",
    "    end\n",
    "end\n",
    "\n",
    "\n",
    "@everywhere function recurse1(str::String, memo::wordmemo)::Bool\n",
    "    if str in memo\n",
    "        if length(str) == 1 || length(str) == 0\n",
    "            return true\n",
    "        else\n",
    "            return all([recurse(substr, memo) for substr in trimstring(str)])\n",
    "        end\n",
    "    else\n",
    "        return false\n",
    "    end\n",
    "end\n",
    "\n",
    "@inline function recurse_all1(words::Vector{String}, base::wordmemo)::Vector{String}\n",
    "    return filter(x -> recurse(x, base), words)\n",
    "end\n",
    "\n",
    "@everywhere words = readwords()\n",
    "@everywhere basememo = wordmemo()\n",
    "\n",
    "@time recurse_all1(words, basememo)"
   ]
  },
  {
   "cell_type": "code",
   "execution_count": null,
   "metadata": {
    "ExecuteTime": {
     "end_time": "2019-02-14T05:58:49.773000+05:30",
     "start_time": "2019-02-14T00:28:48.247Z"
    }
   },
   "outputs": [],
   "source": [
    "include(\"anagrams.jl\")"
   ]
  },
  {
   "cell_type": "code",
   "execution_count": 45,
   "metadata": {
    "ExecuteTime": {
     "end_time": "2019-02-14T07:18:22.637000+05:30",
     "start_time": "2019-02-14T01:48:22.586Z"
    }
   },
   "outputs": [
    {
     "data": {
      "text/plain": [
       "readanagrams (generic function with 1 method)"
      ]
     },
     "execution_count": 45,
     "metadata": {},
     "output_type": "execute_result"
    }
   ],
   "source": [
    "using JLD2, FileIO\n",
    "\n",
    "JLDBFILENAME = \"\"::String\n",
    "const JLDBKEY = \"ANAGRAMS\"\n",
    "\n",
    "function readwords()::Vector{String}\n",
    "    wordslist = []\n",
    "    for line in eachline(\"words.txt\")\n",
    "        push!(wordslist, line)\n",
    "    end\n",
    "    return wordslist\n",
    "end\n",
    "\n",
    "function get_anagrams(wordslist::Vector{String})::Dict{String, Vector{String}}\n",
    "    wordsset = Dict{String, Vector{String}}()\n",
    "\n",
    "    for word in wordslist\n",
    "        key = join(sort([l for l in word]))\n",
    "        wordsset[key] = push!(get!(wordsset, key, []), word)\n",
    "    end\n",
    "    return filter!(kv -> length(kv[2]) >= 2, wordsset)\n",
    "end\n",
    "\n",
    "function JLDSAVE(filename::String, dict::Dict{String, Vector{String}})\n",
    "    global JLDBKEY\n",
    "    save(filename, Dict(JLDBKEY=>dict))\n",
    "end\n",
    "\n",
    "function JLDLOAD(filename::String)\n",
    "    global JLDBKEY\n",
    "    return load(filename)[JLDBKEY]\n",
    "end\n",
    "\n",
    "function storeanagrams(name::String)\n",
    "    global JLDBFILENAME\n",
    "    basewords::Vector{String} = readwords()\n",
    "    anagramsbook::Dict{String, Vector{String}} = get_anagrams(basewords)\n",
    "    name = name*\".jld2\"\n",
    "    try\n",
    "        JLDSAVE(name, anagramsbook)\n",
    "        JLDBFILENAME = name\n",
    "    catch exc\n",
    "        println(\"(!) Error: $exc\")\n",
    "    end\n",
    "end\n",
    "\n",
    "function readanagrams(word::String)::Vector{String}\n",
    "    RET::Vector{String} = []\n",
    "    word = join(sort!([w for w in word]))\n",
    "    global JLDBFILENAME\n",
    "    try\n",
    "        if isfile(JLDBFILENAME)\n",
    "            RET = JLDLOAD(JLDBFILENAME)[word]\n",
    "        else\n",
    "            error(\"(!) Error: DB File Doesn't Exist, create one by calling storeanagrams(filename)\")\n",
    "        end\n",
    "    catch exc\n",
    "        println(\"(!) Error: $exc\")\n",
    "    finally\n",
    "        return RET\n",
    "    end\n",
    "end"
   ]
  },
  {
   "cell_type": "code",
   "execution_count": 48,
   "metadata": {
    "ExecuteTime": {
     "end_time": "2019-02-14T07:18:52.535000+05:30",
     "start_time": "2019-02-14T01:48:52.213Z"
    }
   },
   "outputs": [
    {
     "data": {
      "text/plain": [
       "\"booyah.jld2\""
      ]
     },
     "execution_count": 48,
     "metadata": {},
     "output_type": "execute_result"
    }
   ],
   "source": [
    "storeanagrams(\"booyah\")"
   ]
  },
  {
   "cell_type": "code",
   "execution_count": 49,
   "metadata": {
    "ExecuteTime": {
     "end_time": "2019-02-14T07:18:52.660000+05:30",
     "start_time": "2019-02-14T01:48:52.632Z"
    }
   },
   "outputs": [
    {
     "data": {
      "text/plain": [
       "2-element Array{String,1}:\n",
       " \"boost\"\n",
       " \"boots\""
      ]
     },
     "execution_count": 49,
     "metadata": {},
     "output_type": "execute_result"
    }
   ],
   "source": [
    "readanagrams(\"boost\")"
   ]
  },
  {
   "cell_type": "code",
   "execution_count": null,
   "metadata": {},
   "outputs": [],
   "source": []
  }
 ],
 "metadata": {
  "kernelspec": {
   "display_name": "Julia 1.0.3",
   "language": "julia",
   "name": "julia-1.0"
  },
  "language_info": {
   "file_extension": ".jl",
   "mimetype": "application/julia",
   "name": "julia",
   "version": "1.0.3"
  },
  "nbTranslate": {
   "displayLangs": [
    "*"
   ],
   "hotkey": "alt-t",
   "langInMainMenu": true,
   "sourceLang": "en",
   "targetLang": "fr",
   "useGoogleTranslate": true
  }
 },
 "nbformat": 4,
 "nbformat_minor": 2
}
